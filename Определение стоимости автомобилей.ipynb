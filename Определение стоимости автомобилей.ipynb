{
 "cells": [
  {
   "cell_type": "markdown",
   "metadata": {},
   "source": [
    "# Определение стоимости автомобилей"
   ]
  },
  {
   "cell_type": "markdown",
   "metadata": {},
   "source": [
    "Сервис по продаже автомобилей с пробегом «Не бит, не крашен» разрабатывает приложение для привлечения новых клиентов. В нём можно быстро узнать рыночную стоимость своего автомобиля. В вашем распоряжении исторические данные: технические характеристики, комплектации и цены автомобилей. Вам нужно построить модель для определения стоимости. \n",
    "\n",
    "Заказчику важны:\n",
    "\n",
    "- качество предсказания;\n",
    "- скорость предсказания;\n",
    "- время обучения."
   ]
  },
  {
   "cell_type": "markdown",
   "metadata": {},
   "source": [
    "## Подготовка данных"
   ]
  },
  {
   "cell_type": "code",
   "execution_count": 1,
   "metadata": {},
   "outputs": [],
   "source": [
    "import pandas as pd\n",
    "import numpy as np\n",
    "import seaborn as sns\n",
    "from sklearn.model_selection import train_test_split\n",
    "from sklearn.preprocessing import OrdinalEncoder\n",
    "from sklearn.model_selection import cross_val_score\n",
    "from sklearn.preprocessing import StandardScaler\n",
    "from sklearn.metrics import mean_squared_error\n",
    "from sklearn.pipeline import Pipeline\n",
    "import warnings\n",
    "warnings.filterwarnings('ignore')\n",
    "from sklearn.linear_model import LinearRegression\n",
    "from sklearn.tree import DecisionTreeRegressor\n",
    "from catboost import Pool, CatBoostRegressor, cv\n",
    "from lightgbm import LGBMRegressor\n",
    "from sklearn.model_selection import GridSearchCV\n",
    "\n",
    "\n",
    "from sklearn.preprocessing import PolynomialFeatures\n",
    "\n",
    "from sklearn.ensemble import ExtraTreesRegressor\n"
   ]
  },
  {
   "cell_type": "markdown",
   "metadata": {},
   "source": [
    "### Первоначальное ознакомление с данными"
   ]
  },
  {
   "cell_type": "code",
   "execution_count": 2,
   "metadata": {},
   "outputs": [],
   "source": [
    "data = pd.read_csv('C:\\\\Users\\\\admin\\\\Desktop\\\\DS_yandex\\\\10_Определение стоимости автомобилей\\\\autos.csv')"
   ]
  },
  {
   "cell_type": "code",
   "execution_count": 3,
   "metadata": {
    "scrolled": false
   },
   "outputs": [
    {
     "data": {
      "text/html": [
       "<div>\n",
       "<style scoped>\n",
       "    .dataframe tbody tr th:only-of-type {\n",
       "        vertical-align: middle;\n",
       "    }\n",
       "\n",
       "    .dataframe tbody tr th {\n",
       "        vertical-align: top;\n",
       "    }\n",
       "\n",
       "    .dataframe thead th {\n",
       "        text-align: right;\n",
       "    }\n",
       "</style>\n",
       "<table border=\"1\" class=\"dataframe\">\n",
       "  <thead>\n",
       "    <tr style=\"text-align: right;\">\n",
       "      <th></th>\n",
       "      <th>DateCrawled</th>\n",
       "      <th>Price</th>\n",
       "      <th>VehicleType</th>\n",
       "      <th>RegistrationYear</th>\n",
       "      <th>Gearbox</th>\n",
       "      <th>Power</th>\n",
       "      <th>Model</th>\n",
       "      <th>Kilometer</th>\n",
       "      <th>RegistrationMonth</th>\n",
       "      <th>FuelType</th>\n",
       "      <th>Brand</th>\n",
       "      <th>NotRepaired</th>\n",
       "      <th>DateCreated</th>\n",
       "      <th>NumberOfPictures</th>\n",
       "      <th>PostalCode</th>\n",
       "      <th>LastSeen</th>\n",
       "    </tr>\n",
       "  </thead>\n",
       "  <tbody>\n",
       "    <tr>\n",
       "      <th>0</th>\n",
       "      <td>2016-03-24 11:52:17</td>\n",
       "      <td>480</td>\n",
       "      <td>NaN</td>\n",
       "      <td>1993</td>\n",
       "      <td>manual</td>\n",
       "      <td>0</td>\n",
       "      <td>golf</td>\n",
       "      <td>150000</td>\n",
       "      <td>0</td>\n",
       "      <td>petrol</td>\n",
       "      <td>volkswagen</td>\n",
       "      <td>NaN</td>\n",
       "      <td>2016-03-24 00:00:00</td>\n",
       "      <td>0</td>\n",
       "      <td>70435</td>\n",
       "      <td>2016-04-07 03:16:57</td>\n",
       "    </tr>\n",
       "    <tr>\n",
       "      <th>1</th>\n",
       "      <td>2016-03-24 10:58:45</td>\n",
       "      <td>18300</td>\n",
       "      <td>coupe</td>\n",
       "      <td>2011</td>\n",
       "      <td>manual</td>\n",
       "      <td>190</td>\n",
       "      <td>NaN</td>\n",
       "      <td>125000</td>\n",
       "      <td>5</td>\n",
       "      <td>gasoline</td>\n",
       "      <td>audi</td>\n",
       "      <td>yes</td>\n",
       "      <td>2016-03-24 00:00:00</td>\n",
       "      <td>0</td>\n",
       "      <td>66954</td>\n",
       "      <td>2016-04-07 01:46:50</td>\n",
       "    </tr>\n",
       "    <tr>\n",
       "      <th>2</th>\n",
       "      <td>2016-03-14 12:52:21</td>\n",
       "      <td>9800</td>\n",
       "      <td>suv</td>\n",
       "      <td>2004</td>\n",
       "      <td>auto</td>\n",
       "      <td>163</td>\n",
       "      <td>grand</td>\n",
       "      <td>125000</td>\n",
       "      <td>8</td>\n",
       "      <td>gasoline</td>\n",
       "      <td>jeep</td>\n",
       "      <td>NaN</td>\n",
       "      <td>2016-03-14 00:00:00</td>\n",
       "      <td>0</td>\n",
       "      <td>90480</td>\n",
       "      <td>2016-04-05 12:47:46</td>\n",
       "    </tr>\n",
       "    <tr>\n",
       "      <th>3</th>\n",
       "      <td>2016-03-17 16:54:04</td>\n",
       "      <td>1500</td>\n",
       "      <td>small</td>\n",
       "      <td>2001</td>\n",
       "      <td>manual</td>\n",
       "      <td>75</td>\n",
       "      <td>golf</td>\n",
       "      <td>150000</td>\n",
       "      <td>6</td>\n",
       "      <td>petrol</td>\n",
       "      <td>volkswagen</td>\n",
       "      <td>no</td>\n",
       "      <td>2016-03-17 00:00:00</td>\n",
       "      <td>0</td>\n",
       "      <td>91074</td>\n",
       "      <td>2016-03-17 17:40:17</td>\n",
       "    </tr>\n",
       "    <tr>\n",
       "      <th>4</th>\n",
       "      <td>2016-03-31 17:25:20</td>\n",
       "      <td>3600</td>\n",
       "      <td>small</td>\n",
       "      <td>2008</td>\n",
       "      <td>manual</td>\n",
       "      <td>69</td>\n",
       "      <td>fabia</td>\n",
       "      <td>90000</td>\n",
       "      <td>7</td>\n",
       "      <td>gasoline</td>\n",
       "      <td>skoda</td>\n",
       "      <td>no</td>\n",
       "      <td>2016-03-31 00:00:00</td>\n",
       "      <td>0</td>\n",
       "      <td>60437</td>\n",
       "      <td>2016-04-06 10:17:21</td>\n",
       "    </tr>\n",
       "  </tbody>\n",
       "</table>\n",
       "</div>"
      ],
      "text/plain": [
       "           DateCrawled  Price VehicleType  RegistrationYear Gearbox  Power  \\\n",
       "0  2016-03-24 11:52:17    480         NaN              1993  manual      0   \n",
       "1  2016-03-24 10:58:45  18300       coupe              2011  manual    190   \n",
       "2  2016-03-14 12:52:21   9800         suv              2004    auto    163   \n",
       "3  2016-03-17 16:54:04   1500       small              2001  manual     75   \n",
       "4  2016-03-31 17:25:20   3600       small              2008  manual     69   \n",
       "\n",
       "   Model  Kilometer  RegistrationMonth  FuelType       Brand NotRepaired  \\\n",
       "0   golf     150000                  0    petrol  volkswagen         NaN   \n",
       "1    NaN     125000                  5  gasoline        audi         yes   \n",
       "2  grand     125000                  8  gasoline        jeep         NaN   \n",
       "3   golf     150000                  6    petrol  volkswagen          no   \n",
       "4  fabia      90000                  7  gasoline       skoda          no   \n",
       "\n",
       "           DateCreated  NumberOfPictures  PostalCode             LastSeen  \n",
       "0  2016-03-24 00:00:00                 0       70435  2016-04-07 03:16:57  \n",
       "1  2016-03-24 00:00:00                 0       66954  2016-04-07 01:46:50  \n",
       "2  2016-03-14 00:00:00                 0       90480  2016-04-05 12:47:46  \n",
       "3  2016-03-17 00:00:00                 0       91074  2016-03-17 17:40:17  \n",
       "4  2016-03-31 00:00:00                 0       60437  2016-04-06 10:17:21  "
      ]
     },
     "execution_count": 3,
     "metadata": {},
     "output_type": "execute_result"
    }
   ],
   "source": [
    "data.head()"
   ]
  },
  {
   "cell_type": "code",
   "execution_count": 4,
   "metadata": {
    "scrolled": false
   },
   "outputs": [
    {
     "name": "stdout",
     "output_type": "stream",
     "text": [
      "<class 'pandas.core.frame.DataFrame'>\n",
      "RangeIndex: 354369 entries, 0 to 354368\n",
      "Data columns (total 16 columns):\n",
      " #   Column             Non-Null Count   Dtype \n",
      "---  ------             --------------   ----- \n",
      " 0   DateCrawled        354369 non-null  object\n",
      " 1   Price              354369 non-null  int64 \n",
      " 2   VehicleType        316879 non-null  object\n",
      " 3   RegistrationYear   354369 non-null  int64 \n",
      " 4   Gearbox            334536 non-null  object\n",
      " 5   Power              354369 non-null  int64 \n",
      " 6   Model              334664 non-null  object\n",
      " 7   Kilometer          354369 non-null  int64 \n",
      " 8   RegistrationMonth  354369 non-null  int64 \n",
      " 9   FuelType           321474 non-null  object\n",
      " 10  Brand              354369 non-null  object\n",
      " 11  NotRepaired        283215 non-null  object\n",
      " 12  DateCreated        354369 non-null  object\n",
      " 13  NumberOfPictures   354369 non-null  int64 \n",
      " 14  PostalCode         354369 non-null  int64 \n",
      " 15  LastSeen           354369 non-null  object\n",
      "dtypes: int64(7), object(9)\n",
      "memory usage: 43.3+ MB\n"
     ]
    }
   ],
   "source": [
    "data.info()"
   ]
  },
  {
   "cell_type": "markdown",
   "metadata": {},
   "source": [
    "### Отсев лишней информации"
   ]
  },
  {
   "cell_type": "markdown",
   "metadata": {},
   "source": [
    "Уберем столбцы, данные которых не влияют на цену, а значит и не нужны для модели обучения."
   ]
  },
  {
   "cell_type": "code",
   "execution_count": 5,
   "metadata": {},
   "outputs": [
    {
     "data": {
      "text/plain": [
       "'2016-04-07 14:36:58'"
      ]
     },
     "execution_count": 5,
     "metadata": {},
     "output_type": "execute_result"
    }
   ],
   "source": [
    "data['DateCrawled'].max()"
   ]
  },
  {
   "cell_type": "code",
   "execution_count": 6,
   "metadata": {},
   "outputs": [],
   "source": [
    "data.drop(['DateCrawled', \n",
    "           'RegistrationMonth', \n",
    "           'DateCreated', \n",
    "           'NumberOfPictures', \n",
    "           'PostalCode', \n",
    "           'LastSeen'], axis = 1, inplace = True)"
   ]
  },
  {
   "cell_type": "markdown",
   "metadata": {},
   "source": [
    "### Заполнение пропусков и удаление выбросов и аномалий"
   ]
  },
  {
   "cell_type": "code",
   "execution_count": 7,
   "metadata": {
    "scrolled": true
   },
   "outputs": [
    {
     "data": {
      "text/plain": [
       "Price               0.000000\n",
       "VehicleType         0.105794\n",
       "RegistrationYear    0.000000\n",
       "Gearbox             0.055967\n",
       "Power               0.000000\n",
       "Model               0.055606\n",
       "Kilometer           0.000000\n",
       "FuelType            0.092827\n",
       "Brand               0.000000\n",
       "NotRepaired         0.200791\n",
       "dtype: float64"
      ]
     },
     "execution_count": 7,
     "metadata": {},
     "output_type": "execute_result"
    }
   ],
   "source": [
    "data.isna().mean()"
   ]
  },
  {
   "cell_type": "markdown",
   "metadata": {},
   "source": [
    "Итак, мы имеем 10,5% пропусков в столбце \"VehicleType\", 5,5% - в \"Gearbox\", 5,5% - в \"Model\", 9,2% - в \"FuelType\", 20% - в \"NotRepaired\". \n",
    "Просмотрим уникальные значения столбцов датасета."
   ]
  },
  {
   "cell_type": "code",
   "execution_count": 8,
   "metadata": {
    "scrolled": false
   },
   "outputs": [
    {
     "name": "stdout",
     "output_type": "stream",
     "text": [
      "Уникальные значения столбца Price :\n",
      "[    0     1     2 ... 19998 19999 20000]\n",
      "-----------------------------------------------------------------------\n",
      "Уникальные значения столбца VehicleType :\n",
      "['bus' 'convertible' 'coupe' 'other' 'sedan' 'small' 'suv' 'wagon' nan]\n",
      "-----------------------------------------------------------------------\n",
      "Уникальные значения столбца RegistrationYear :\n",
      "[1000 1001 1039 1111 1200 1234 1253 1255 1300 1400 1500 1600 1602 1688\n",
      " 1800 1910 1915 1919 1920 1923 1925 1927 1928 1929 1930 1931 1932 1933\n",
      " 1934 1935 1936 1937 1938 1940 1941 1942 1943 1944 1945 1946 1947 1948\n",
      " 1949 1950 1951 1952 1953 1954 1955 1956 1957 1958 1959 1960 1961 1962\n",
      " 1963 1964 1965 1966 1967 1968 1969 1970 1971 1972 1973 1974 1975 1976\n",
      " 1977 1978 1979 1980 1981 1982 1983 1984 1985 1986 1987 1988 1989 1990\n",
      " 1991 1992 1993 1994 1995 1996 1997 1998 1999 2000 2001 2002 2003 2004\n",
      " 2005 2006 2007 2008 2009 2010 2011 2012 2013 2014 2015 2016 2017 2018\n",
      " 2019 2066 2200 2222 2290 2500 2800 2900 3000 3200 3500 3700 3800 4000\n",
      " 4100 4500 4800 5000 5300 5555 5600 5900 5911 6000 6500 7000 7100 7500\n",
      " 7800 8000 8200 8455 8500 8888 9000 9229 9450 9996 9999]\n",
      "-----------------------------------------------------------------------\n",
      "Уникальные значения столбца Gearbox :\n",
      "['auto' 'manual' nan]\n",
      "-----------------------------------------------------------------------\n",
      "Уникальные значения столбца Power :\n",
      "[    0     1     2     3     4     5     6     7     8     9    10    11\n",
      "    12    13    14    15    16    17    18    19    20    21    22    23\n",
      "    24    25    26    27    28    29    30    31    32    33    34    35\n",
      "    36    37    38    39    40    41    42    43    44    45    46    47\n",
      "    48    49    50    51    52    53    54    55    56    57    58    59\n",
      "    60    61    62    63    64    65    66    67    68    69    70    71\n",
      "    72    73    74    75    76    77    78    79    80    81    82    83\n",
      "    84    85    86    87    88    89    90    91    92    93    94    95\n",
      "    96    97    98    99   100   101   102   103   104   105   106   107\n",
      "   108   109   110   111   112   113   114   115   116   117   118   119\n",
      "   120   121   122   123   124   125   126   127   128   129   130   131\n",
      "   132   133   134   135   136   137   138   139   140   141   142   143\n",
      "   144   145   146   147   148   149   150   151   152   153   154   155\n",
      "   156   157   158   159   160   161   162   163   164   165   166   167\n",
      "   168   169   170   171   172   173   174   175   176   177   178   179\n",
      "   180   181   182   183   184   185   186   187   188   189   190   191\n",
      "   192   193   194   195   196   197   198   199   200   201   202   203\n",
      "   204   205   206   207   208   209   210   211   212   213   214   215\n",
      "   216   217   218   219   220   221   222   223   224   225   226   227\n",
      "   228   229   230   231   232   233   234   235   236   237   238   239\n",
      "   240   241   242   243   244   245   246   247   248   249   250   251\n",
      "   252   253   254   255   256   257   258   259   260   261   262   264\n",
      "   265   266   267   268   269   270   271   272   273   274   275   276\n",
      "   277   278   279   280   281   282   283   284   285   286   287   288\n",
      "   289   290   292   293   294   295   296   297   298   299   300   301\n",
      "   303   304   305   306   307   308   309   310   311   313   314   315\n",
      "   316   317   318   320   321   322   323   324   325   326   327   328\n",
      "   329   330   331   332   333   334   335   336   337   338   339   340\n",
      "   341   343   344   345   346   347   348   349   350   351   352   353\n",
      "   354   355   356   357   358   360   361   362   363   364   365   367\n",
      "   368   370   371   374   375   376   377   379   380   381   382   385\n",
      "   386   387   388   390   392   394   396   398   399   400   401   402\n",
      "   405   408   409   411   416   420   421   425   426   428   430   431\n",
      "   435   440   442   445   449   450   454   457   459   460   475   476\n",
      "   485   487   489   490   500   504   505   507   508   510   514   515\n",
      "   517   519   520   521   525   530   540   541   544   550   551   553\n",
      "   560   572   574   579   580   584   585   599   600   601   602   603\n",
      "   604   606   607   610   612   620   640   645   650   651   671   678\n",
      "   682   685   696   700   702   703   732   743   750   751   754   771\n",
      "   776   800   805   808   850   851   871   900   901   902   903   907\n",
      "   909   923   950   952   953   960   998   999  1000  1001  1002  1003\n",
      "  1004  1005  1011  1012  1016  1017  1021  1024  1054  1055  1056  1062\n",
      "  1079  1082  1090  1100  1102  1103  1105  1111  1115  1120  1149  1151\n",
      "  1158  1160  1162  1164  1199  1200  1202  1221  1223  1230  1239  1240\n",
      "  1241  1250  1252  1256  1275  1288  1299  1300  1312  1317  1324  1339\n",
      "  1351  1360  1362  1363  1367  1390  1394  1398  1399  1400  1401  1403\n",
      "  1405  1416  1432  1433  1436  1500  1501  1502  1503  1506  1521  1548\n",
      "  1595  1596  1597  1598  1600  1625  1631  1653  1659  1689  1700  1701\n",
      "  1703  1704  1707  1753  1771  1779  1780  1781  1783  1793  1796  1799\n",
      "  1800  1801  1870  1895  1896  1900  1910  1920  1922  1933  1937  1968\n",
      "  1986  1988  1992  1993  1995  1998  1999  2000  2004  2005  2007  2009\n",
      "  2016  2017  2018  2172  2200  2201  2331  2340  2389  2402  2461  2598\n",
      "  2729  2789  2792  2799  3000  3199  3454  3500  3750  4400  4507  4700\n",
      "  5000  5411  5420  5575  5809  5815  5867  6006  6010  6011  6012  6018\n",
      "  6045  6062  6226  6512  6920  7508  7511  7512  7515  7518  7529  7544\n",
      "  8011  8259  8404  8500  9000  9007  9010  9011  9012  9013  9710 10000\n",
      " 10110 10218 10311 10317 10520 10522 10710 10910 10912 11011 11025 11111\n",
      " 11509 11530 11635 12012 12510 12512 12684 13616 13636 14009 15001 15016\n",
      " 15017 15020 15033 16011 16051 16311 16312 17011 17019 17410 17700 17932\n",
      " 19208 19211 19312 20000]\n",
      "-----------------------------------------------------------------------\n",
      "Уникальные значения столбца Model :\n",
      "['100' '145' '147' '156' '159' '1_reihe' '1er' '200' '2_reihe' '300c'\n",
      " '3_reihe' '3er' '4_reihe' '500' '5_reihe' '5er' '601' '6_reihe' '6er'\n",
      " '7er' '80' '850' '90' '900' '9000' '911' 'a1' 'a2' 'a3' 'a4' 'a5' 'a6'\n",
      " 'a8' 'a_klasse' 'accord' 'agila' 'alhambra' 'almera' 'altea' 'amarok'\n",
      " 'antara' 'arosa' 'astra' 'auris' 'avensis' 'aveo' 'aygo' 'b_klasse'\n",
      " 'b_max' 'beetle' 'berlingo' 'bora' 'boxster' 'bravo' 'c1' 'c2' 'c3' 'c4'\n",
      " 'c5' 'c_klasse' 'c_max' 'c_reihe' 'caddy' 'calibra' 'captiva' 'carisma'\n",
      " 'carnival' 'cayenne' 'cc' 'ceed' 'charade' 'cherokee' 'citigo' 'civic'\n",
      " 'cl' 'clio' 'clk' 'clubman' 'colt' 'combo' 'cooper' 'cordoba' 'corolla'\n",
      " 'corsa' 'cr_reihe' 'croma' 'crossfire' 'cuore' 'cx_reihe' 'defender'\n",
      " 'delta' 'discovery' 'doblo' 'ducato' 'duster' 'e_klasse' 'elefantino'\n",
      " 'eos' 'escort' 'espace' 'exeo' 'fabia' 'fiesta' 'focus' 'forester'\n",
      " 'forfour' 'fortwo' 'fox' 'freelander' 'fusion' 'g_klasse' 'galant'\n",
      " 'galaxy' 'getz' 'gl' 'glk' 'golf' 'grand' 'i3' 'i_reihe' 'ibiza'\n",
      " 'impreza' 'insignia' 'jazz' 'jetta' 'jimny' 'juke' 'justy' 'ka' 'kadett'\n",
      " 'kaefer' 'kalina' 'kalos' 'kangoo' 'kappa' 'kuga' 'laguna' 'lancer'\n",
      " 'lanos' 'legacy' 'leon' 'lodgy' 'logan' 'lupo' 'lybra' 'm_klasse'\n",
      " 'm_reihe' 'materia' 'matiz' 'megane' 'meriva' 'micra' 'mii' 'modus'\n",
      " 'mondeo' 'move' 'musa' 'mustang' 'mx_reihe' 'navara' 'niva' 'note'\n",
      " 'nubira' 'octavia' 'omega' 'one' 'other' 'outlander' 'pajero' 'panda'\n",
      " 'passat' 'phaeton' 'picanto' 'polo' 'primera' 'ptcruiser' 'punto' 'q3'\n",
      " 'q5' 'q7' 'qashqai' 'r19' 'range_rover' 'range_rover_evoque'\n",
      " 'range_rover_sport' 'rangerover' 'rav' 'rio' 'roadster' 'roomster'\n",
      " 'rx_reihe' 's60' 's_klasse' 's_max' 's_type' 'samara' 'sandero' 'santa'\n",
      " 'scenic' 'scirocco' 'seicento' 'serie_1' 'serie_2' 'serie_3' 'sharan'\n",
      " 'signum' 'sirion' 'sl' 'slk' 'sorento' 'spark' 'spider' 'sportage'\n",
      " 'sprinter' 'stilo' 'superb' 'swift' 'terios' 'tigra' 'tiguan' 'toledo'\n",
      " 'touareg' 'touran' 'transit' 'transporter' 'tt' 'tucson' 'twingo' 'up'\n",
      " 'v40' 'v50' 'v60' 'v70' 'v_klasse' 'vectra' 'verso' 'viano' 'vito'\n",
      " 'vivaro' 'voyager' 'wrangler' 'x_reihe' 'x_trail' 'x_type' 'xc_reihe'\n",
      " 'yaris' 'yeti' 'ypsilon' 'z_reihe' 'zafira' nan]\n",
      "-----------------------------------------------------------------------\n",
      "Уникальные значения столбца Kilometer :\n",
      "[  5000  10000  20000  30000  40000  50000  60000  70000  80000  90000\n",
      " 100000 125000 150000]\n",
      "-----------------------------------------------------------------------\n",
      "Уникальные значения столбца FuelType :\n"
     ]
    },
    {
     "name": "stdout",
     "output_type": "stream",
     "text": [
      "['cng' 'electric' 'gasoline' 'hybrid' 'lpg' 'other' 'petrol' nan]\n",
      "-----------------------------------------------------------------------\n",
      "Уникальные значения столбца Brand :\n",
      "['alfa_romeo' 'audi' 'bmw' 'chevrolet' 'chrysler' 'citroen' 'dacia'\n",
      " 'daewoo' 'daihatsu' 'fiat' 'ford' 'honda' 'hyundai' 'jaguar' 'jeep' 'kia'\n",
      " 'lada' 'lancia' 'land_rover' 'mazda' 'mercedes_benz' 'mini' 'mitsubishi'\n",
      " 'nissan' 'opel' 'peugeot' 'porsche' 'renault' 'rover' 'saab' 'seat'\n",
      " 'skoda' 'smart' 'sonstige_autos' 'subaru' 'suzuki' 'toyota' 'trabant'\n",
      " 'volkswagen' 'volvo']\n",
      "-----------------------------------------------------------------------\n",
      "Уникальные значения столбца NotRepaired :\n",
      "['no' 'yes' nan]\n",
      "-----------------------------------------------------------------------\n"
     ]
    }
   ],
   "source": [
    "for i in data.columns:\n",
    "    print('Уникальные значения столбца', i, ':')\n",
    "    print(data[i].sort_values().unique())\n",
    "    print('-----------------------------------------------------------------------')"
   ]
  },
  {
   "cell_type": "markdown",
   "metadata": {},
   "source": [
    "Помимо пропусков в данных много аномально больших и малых значений, от которых мы сейчас и избавимся."
   ]
  },
  {
   "cell_type": "markdown",
   "metadata": {},
   "source": [
    "#### Столбец 'Price'"
   ]
  },
  {
   "cell_type": "code",
   "execution_count": 9,
   "metadata": {
    "scrolled": true
   },
   "outputs": [
    {
     "data": {
      "text/plain": [
       "0        10772\n",
       "500       5670\n",
       "1500      5394\n",
       "1000      4649\n",
       "1200      4594\n",
       "         ...  \n",
       "13180        1\n",
       "10879        1\n",
       "2683         1\n",
       "634          1\n",
       "8188         1\n",
       "Name: Price, Length: 3731, dtype: int64"
      ]
     },
     "execution_count": 9,
     "metadata": {},
     "output_type": "execute_result"
    }
   ],
   "source": [
    "data['Price'].value_counts()"
   ]
  },
  {
   "cell_type": "code",
   "execution_count": 10,
   "metadata": {},
   "outputs": [
    {
     "data": {
      "text/plain": [
       "<AxesSubplot:xlabel='Price'>"
      ]
     },
     "execution_count": 10,
     "metadata": {},
     "output_type": "execute_result"
    },
    {
     "data": {
      "image/png": "[encoded data removed]",
      "text/plain": [
       "<Figure size 432x288 with 1 Axes>"
      ]
     },
     "metadata": {
      "needs_background": "light"
     },
     "output_type": "display_data"
    }
   ],
   "source": [
    "sns.boxplot(data['Price'])"
   ]
  },
  {
   "cell_type": "markdown",
   "metadata": {},
   "source": [
    "\"Нулевых\" цен в датасете 10772, что составляет около 3% датасета. Избавимся от них посмотрим на гистограмму."
   ]
  },
  {
   "cell_type": "code",
   "execution_count": 11,
   "metadata": {
    "scrolled": false
   },
   "outputs": [
    {
     "data": {
      "text/plain": [
       "<AxesSubplot:>"
      ]
     },
     "execution_count": 11,
     "metadata": {},
     "output_type": "execute_result"
    },
    {
     "data": {
      "image/png": "[encoded data removed]",
      "text/plain": [
       "<Figure size 864x648 with 1 Axes>"
      ]
     },
     "metadata": {
      "needs_background": "light"
     },
     "output_type": "display_data"
    }
   ],
   "source": [
    "data = data.query('Price > 0')\n",
    "data['Price'].hist(bins=100, figsize=(12,9))"
   ]
  },
  {
   "cell_type": "markdown",
   "metadata": {},
   "source": [
    "Выделим квантили 5% и 90%."
   ]
  },
  {
   "cell_type": "code",
   "execution_count": 12,
   "metadata": {},
   "outputs": [
    {
     "data": {
      "text/plain": [
       "0.05      350.0\n",
       "0.90    11500.0\n",
       "Name: Price, dtype: float64"
      ]
     },
     "execution_count": 12,
     "metadata": {},
     "output_type": "execute_result"
    }
   ],
   "source": [
    "data['Price'].quantile([.05, .90])"
   ]
  },
  {
   "cell_type": "code",
   "execution_count": 13,
   "metadata": {},
   "outputs": [],
   "source": [
    "data = data.query('350 <= Price <= 11500')"
   ]
  },
  {
   "cell_type": "markdown",
   "metadata": {},
   "source": [
    "#### Столбец 'Model'"
   ]
  },
  {
   "cell_type": "markdown",
   "metadata": {},
   "source": [
    "Учитывая невозможность корректного заполнения пропусков в данном столбце и малого количества пропусков к общему количеству записей в датасете удалим строки с пропусками."
   ]
  },
  {
   "cell_type": "code",
   "execution_count": 14,
   "metadata": {},
   "outputs": [
    {
     "data": {
      "text/plain": [
       "0"
      ]
     },
     "execution_count": 14,
     "metadata": {},
     "output_type": "execute_result"
    }
   ],
   "source": [
    "data = data.loc[~ data['Model'].isna()]\n",
    "data['Model'].isna().sum()"
   ]
  },
  {
   "cell_type": "markdown",
   "metadata": {},
   "source": [
    "#### Столбец 'VehicleType'"
   ]
  },
  {
   "cell_type": "code",
   "execution_count": 15,
   "metadata": {},
   "outputs": [
    {
     "data": {
      "text/plain": [
       "23598"
      ]
     },
     "execution_count": 15,
     "metadata": {},
     "output_type": "execute_result"
    }
   ],
   "source": [
    "data['VehicleType'].isnull().sum()"
   ]
  },
  {
   "cell_type": "markdown",
   "metadata": {},
   "source": [
    "Пропуски в данном столбце заполним наиболее часто встречающимися средними значениями в срезе моделей."
   ]
  },
  {
   "cell_type": "code",
   "execution_count": 16,
   "metadata": {},
   "outputs": [],
   "source": [
    "def fil_na(col):\n",
    "    data[col] = data[col].fillna(data.groupby('Model')[col].transform(lambda x: x.value_counts().idxmax()))"
   ]
  },
  {
   "cell_type": "code",
   "execution_count": 17,
   "metadata": {},
   "outputs": [
    {
     "data": {
      "text/plain": [
       "0"
      ]
     },
     "execution_count": 17,
     "metadata": {},
     "output_type": "execute_result"
    }
   ],
   "source": [
    "fil_na('VehicleType')\n",
    "data['VehicleType'].isna().sum()"
   ]
  },
  {
   "cell_type": "markdown",
   "metadata": {},
   "source": [
    "#### Столбец 'Gearbox'"
   ]
  },
  {
   "cell_type": "code",
   "execution_count": 18,
   "metadata": {
    "scrolled": true
   },
   "outputs": [
    {
     "data": {
      "text/plain": [
       "11615"
      ]
     },
     "execution_count": 18,
     "metadata": {},
     "output_type": "execute_result"
    }
   ],
   "source": [
    "data['Gearbox'].isnull().sum()"
   ]
  },
  {
   "cell_type": "markdown",
   "metadata": {},
   "source": [
    "В данном столбце пропуски заполним по тому же принципу, что и в столбце 'VehicleType'."
   ]
  },
  {
   "cell_type": "code",
   "execution_count": 19,
   "metadata": {},
   "outputs": [
    {
     "data": {
      "text/plain": [
       "0"
      ]
     },
     "execution_count": 19,
     "metadata": {},
     "output_type": "execute_result"
    }
   ],
   "source": [
    "fil_na('Gearbox')\n",
    "data['Gearbox'].isna().sum()"
   ]
  },
  {
   "cell_type": "markdown",
   "metadata": {},
   "source": [
    "#### Столбец 'FuelType'"
   ]
  },
  {
   "cell_type": "code",
   "execution_count": 20,
   "metadata": {},
   "outputs": [
    {
     "data": {
      "text/plain": [
       "19435"
      ]
     },
     "execution_count": 20,
     "metadata": {},
     "output_type": "execute_result"
    }
   ],
   "source": [
    "data['FuelType'].isnull().sum()"
   ]
  },
  {
   "cell_type": "markdown",
   "metadata": {},
   "source": [
    "Снова воспользуемся тем же принципом заполнения пропуском, как и в предыдущих двух случаях."
   ]
  },
  {
   "cell_type": "code",
   "execution_count": 21,
   "metadata": {},
   "outputs": [
    {
     "data": {
      "text/plain": [
       "0"
      ]
     },
     "execution_count": 21,
     "metadata": {},
     "output_type": "execute_result"
    }
   ],
   "source": [
    "fil_na('FuelType')\n",
    "data['FuelType'].isna().sum()"
   ]
  },
  {
   "cell_type": "markdown",
   "metadata": {},
   "source": [
    "#### Столбец 'RegistrationYear'"
   ]
  },
  {
   "cell_type": "code",
   "execution_count": 22,
   "metadata": {},
   "outputs": [
    {
     "data": {
      "text/plain": [
       "count    279462.000000\n",
       "mean       2003.271715\n",
       "std          52.519362\n",
       "min        1000.000000\n",
       "25%        1999.000000\n",
       "50%        2003.000000\n",
       "75%        2007.000000\n",
       "max        9999.000000\n",
       "Name: RegistrationYear, dtype: float64"
      ]
     },
     "execution_count": 22,
     "metadata": {},
     "output_type": "execute_result"
    }
   ],
   "source": [
    "data['RegistrationYear'].describe()"
   ]
  },
  {
   "cell_type": "markdown",
   "metadata": {},
   "source": [
    "Присутствуют как слишком малые значения(**1000**), так и слишком большие(**9999**). Чтобы отрезать слишком большие значения, обратим внимание дату самой поздней выгрузки объявлений из базы. Она датируется 2016 годом, значит максимальным значением в нашем датасете будет 2016 год. Минимальным значением в данном столбце пока установим 1886 год (год появления первого серийного автомобиля). И рассмотрим гистограмму с такими границами."
   ]
  },
  {
   "cell_type": "code",
   "execution_count": 23,
   "metadata": {},
   "outputs": [
    {
     "data": {
      "text/plain": [
       "<AxesSubplot:>"
      ]
     },
     "execution_count": 23,
     "metadata": {},
     "output_type": "execute_result"
    },
    {
     "data": {
      "image/png": "[encoded data removed]",
      "text/plain": [
       "<Figure size 864x648 with 1 Axes>"
      ]
     },
     "metadata": {
      "needs_background": "light"
     },
     "output_type": "display_data"
    }
   ],
   "source": [
    "data = data.query('1885 < RegistrationYear < 2017')\n",
    "data['RegistrationYear'].hist(bins=100, figsize=(12,9))"
   ]
  },
  {
   "cell_type": "markdown",
   "metadata": {},
   "source": [
    "Приняв во внимание гистограмму ограничим минимальный год производства автомобиля 1960 годом."
   ]
  },
  {
   "cell_type": "code",
   "execution_count": 24,
   "metadata": {},
   "outputs": [
    {
     "data": {
      "text/plain": [
       "count    268279.000000\n",
       "mean       2002.276738\n",
       "std           6.079197\n",
       "min        1960.000000\n",
       "25%        1999.000000\n",
       "50%        2002.000000\n",
       "75%        2006.000000\n",
       "max        2016.000000\n",
       "Name: RegistrationYear, dtype: float64"
      ]
     },
     "execution_count": 24,
     "metadata": {},
     "output_type": "execute_result"
    }
   ],
   "source": [
    "data = data.query('RegistrationYear > 1959')\n",
    "data['RegistrationYear'].describe()"
   ]
  },
  {
   "cell_type": "markdown",
   "metadata": {},
   "source": [
    "#### Столбец 'Power'"
   ]
  },
  {
   "cell_type": "code",
   "execution_count": 25,
   "metadata": {},
   "outputs": [
    {
     "data": {
      "text/plain": [
       "count    268279.000000\n",
       "mean        108.328550\n",
       "std         179.770983\n",
       "min           0.000000\n",
       "25%          72.000000\n",
       "50%         102.000000\n",
       "75%         140.000000\n",
       "max       20000.000000\n",
       "Name: Power, dtype: float64"
      ]
     },
     "execution_count": 25,
     "metadata": {},
     "output_type": "execute_result"
    }
   ],
   "source": [
    "data['Power'].describe()"
   ]
  },
  {
   "cell_type": "code",
   "execution_count": 26,
   "metadata": {},
   "outputs": [
    {
     "data": {
      "text/plain": [
       "<AxesSubplot:>"
      ]
     },
     "execution_count": 26,
     "metadata": {},
     "output_type": "execute_result"
    },
    {
     "data": {
      "image/png": "[encoded data removed]",
      "text/plain": [
       "<Figure size 864x648 with 1 Axes>"
      ]
     },
     "metadata": {
      "needs_background": "light"
     },
     "output_type": "display_data"
    }
   ],
   "source": [
    "data['Power'].hist(bins=100, figsize=(12,9))"
   ]
  },
  {
   "cell_type": "markdown",
   "metadata": {},
   "source": [
    "Уменьшим максимальную границу постороения гистограммы до 1000 л.с.."
   ]
  },
  {
   "cell_type": "code",
   "execution_count": 27,
   "metadata": {},
   "outputs": [
    {
     "data": {
      "text/plain": [
       "<AxesSubplot:>"
      ]
     },
     "execution_count": 27,
     "metadata": {},
     "output_type": "execute_result"
    },
    {
     "data": {
      "image/png": "[encoded data removed]",
      "text/plain": [
       "<Figure size 864x648 with 1 Axes>"
      ]
     },
     "metadata": {
      "needs_background": "light"
     },
     "output_type": "display_data"
    }
   ],
   "source": [
    "data['Power'].hist(bins=100, figsize=(12,9), range = (0, 1000))"
   ]
  },
  {
   "cell_type": "markdown",
   "metadata": {},
   "source": [
    "Избавимся от \"нулевой\" мощности и отрежем значения, превышающие значение в 400 л.с.."
   ]
  },
  {
   "cell_type": "code",
   "execution_count": 28,
   "metadata": {},
   "outputs": [
    {
     "data": {
      "text/plain": [
       "<AxesSubplot:>"
      ]
     },
     "execution_count": 28,
     "metadata": {},
     "output_type": "execute_result"
    },
    {
     "data": {
      "image/png": "[encoded data removed]",
      "text/plain": [
       "<Figure size 864x648 with 1 Axes>"
      ]
     },
     "metadata": {
      "needs_background": "light"
     },
     "output_type": "display_data"
    }
   ],
   "source": [
    "data = data.query('0 < Power < 401')\n",
    "data['Power'].hist(bins=100, figsize=(12,9))"
   ]
  },
  {
   "cell_type": "code",
   "execution_count": 29,
   "metadata": {},
   "outputs": [
    {
     "data": {
      "text/plain": [
       "<AxesSubplot:>"
      ]
     },
     "execution_count": 29,
     "metadata": {},
     "output_type": "execute_result"
    },
    {
     "data": {
      "image/png": "[encoded data removed]",
      "text/plain": [
       "<Figure size 864x648 with 1 Axes>"
      ]
     },
     "metadata": {
      "needs_background": "light"
     },
     "output_type": "display_data"
    }
   ],
   "source": [
    "data['Power'].hist(bins=100, figsize=(12,9), range = (0, 30))"
   ]
  },
  {
   "cell_type": "code",
   "execution_count": 30,
   "metadata": {},
   "outputs": [
    {
     "data": {
      "text/plain": [
       "<AxesSubplot:>"
      ]
     },
     "execution_count": 30,
     "metadata": {},
     "output_type": "execute_result"
    },
    {
     "data": {
      "image/png": "[encoded data removed]",
      "text/plain": [
       "<Figure size 864x648 with 1 Axes>"
      ]
     },
     "metadata": {
      "needs_background": "light"
     },
     "output_type": "display_data"
    }
   ],
   "source": [
    "data['Power'].hist(bins=100, figsize=(12,9), range = (300, 400))"
   ]
  },
  {
   "cell_type": "markdown",
   "metadata": {},
   "source": [
    "Ограничимся минимальным значением мощности в 25 л.с., а максимальным - 360 л.с.."
   ]
  },
  {
   "cell_type": "code",
   "execution_count": 31,
   "metadata": {},
   "outputs": [],
   "source": [
    "data = data.query('24 < Power < 361')"
   ]
  },
  {
   "cell_type": "markdown",
   "metadata": {},
   "source": [
    "#### Столбец 'NotRepaired'"
   ]
  },
  {
   "cell_type": "markdown",
   "metadata": {},
   "source": [
    "Заменим все значения \"nan\" на \"yes\"."
   ]
  },
  {
   "cell_type": "code",
   "execution_count": 32,
   "metadata": {
    "scrolled": false
   },
   "outputs": [],
   "source": [
    "data['NotRepaired'] = data['NotRepaired'].fillna('yes')"
   ]
  },
  {
   "cell_type": "code",
   "execution_count": 33,
   "metadata": {
    "scrolled": true
   },
   "outputs": [
    {
     "data": {
      "text/plain": [
       "array(['yes', 'no'], dtype=object)"
      ]
     },
     "execution_count": 33,
     "metadata": {},
     "output_type": "execute_result"
    }
   ],
   "source": [
    "data['NotRepaired'].unique()"
   ]
  },
  {
   "cell_type": "markdown",
   "metadata": {},
   "source": [
    "### Замена значений столбцов 'Gearbox' и 'NotRepaired'"
   ]
  },
  {
   "cell_type": "markdown",
   "metadata": {},
   "source": [
    "Заменим значения столбцов 'Gearbox' и 'NotRepaired' на 'IsManualGearbox' и 'IsNotRepaired' соответственно, значения в которых будут булева типа."
   ]
  },
  {
   "cell_type": "code",
   "execution_count": 34,
   "metadata": {},
   "outputs": [
    {
     "data": {
      "text/plain": [
       "1    200549\n",
       "0     43625\n",
       "Name: IsManualGearbox, dtype: int64"
      ]
     },
     "metadata": {},
     "output_type": "display_data"
    },
    {
     "data": {
      "text/plain": [
       "manual    200549\n",
       "auto       43625\n",
       "Name: Gearbox, dtype: int64"
      ]
     },
     "execution_count": 34,
     "metadata": {},
     "output_type": "execute_result"
    }
   ],
   "source": [
    "data['IsManualGearbox'] = 0\n",
    "data.loc[data['Gearbox'] == 'manual', 'IsManualGearbox'] = 1\n",
    "display(data['IsManualGearbox'].value_counts())\n",
    "data['Gearbox'].value_counts()"
   ]
  },
  {
   "cell_type": "code",
   "execution_count": 35,
   "metadata": {},
   "outputs": [
    {
     "data": {
      "text/plain": [
       "0    186747\n",
       "1     57427\n",
       "Name: IsNotRepaired, dtype: int64"
      ]
     },
     "metadata": {},
     "output_type": "display_data"
    },
    {
     "data": {
      "text/plain": [
       "no     186747\n",
       "yes     57427\n",
       "Name: NotRepaired, dtype: int64"
      ]
     },
     "execution_count": 35,
     "metadata": {},
     "output_type": "execute_result"
    }
   ],
   "source": [
    "data['IsNotRepaired'] = 0\n",
    "data.loc[data['NotRepaired'] == 'yes', 'IsNotRepaired'] = 1\n",
    "display(data['IsNotRepaired'].value_counts())\n",
    "data['NotRepaired'].value_counts()"
   ]
  },
  {
   "cell_type": "markdown",
   "metadata": {},
   "source": [
    "Удалим 'Gearbox' и 'NotRepaired'."
   ]
  },
  {
   "cell_type": "code",
   "execution_count": 36,
   "metadata": {},
   "outputs": [],
   "source": [
    "data.drop(['NotRepaired','Gearbox'], inplace=True, axis=1)"
   ]
  },
  {
   "cell_type": "markdown",
   "metadata": {},
   "source": [
    "#### Уменьшим размерность таблицы для ускорения работы с датафреймом"
   ]
  },
  {
   "cell_type": "code",
   "execution_count": 37,
   "metadata": {},
   "outputs": [
    {
     "name": "stdout",
     "output_type": "stream",
     "text": [
      "<class 'pandas.core.frame.DataFrame'>\n",
      "Int64Index: 244174 entries, 2 to 354368\n",
      "Data columns (total 10 columns):\n",
      " #   Column            Non-Null Count   Dtype \n",
      "---  ------            --------------   ----- \n",
      " 0   Price             244174 non-null  int64 \n",
      " 1   VehicleType       244174 non-null  object\n",
      " 2   RegistrationYear  244174 non-null  int64 \n",
      " 3   Power             244174 non-null  int64 \n",
      " 4   Model             244174 non-null  object\n",
      " 5   Kilometer         244174 non-null  int64 \n",
      " 6   FuelType          244174 non-null  object\n",
      " 7   Brand             244174 non-null  object\n",
      " 8   IsManualGearbox   244174 non-null  int64 \n",
      " 9   IsNotRepaired     244174 non-null  int64 \n",
      "dtypes: int64(6), object(4)\n",
      "memory usage: 20.5+ MB\n"
     ]
    }
   ],
   "source": [
    "data.info()"
   ]
  },
  {
   "cell_type": "code",
   "execution_count": 38,
   "metadata": {
    "scrolled": true
   },
   "outputs": [
    {
     "name": "stdout",
     "output_type": "stream",
     "text": [
      "<class 'pandas.core.frame.DataFrame'>\n",
      "Int64Index: 244174 entries, 2 to 354368\n",
      "Data columns (total 10 columns):\n",
      " #   Column            Non-Null Count   Dtype \n",
      "---  ------            --------------   ----- \n",
      " 0   Price             244174 non-null  int16 \n",
      " 1   VehicleType       244174 non-null  object\n",
      " 2   RegistrationYear  244174 non-null  int16 \n",
      " 3   Power             244174 non-null  int16 \n",
      " 4   Model             244174 non-null  object\n",
      " 5   Kilometer         244174 non-null  int32 \n",
      " 6   FuelType          244174 non-null  object\n",
      " 7   Brand             244174 non-null  object\n",
      " 8   IsManualGearbox   244174 non-null  int8  \n",
      " 9   IsNotRepaired     244174 non-null  int8  \n",
      "dtypes: int16(3), int32(1), int8(2), object(4)\n",
      "memory usage: 12.1+ MB\n"
     ]
    }
   ],
   "source": [
    "for col in ['Price', 'RegistrationYear', 'Power', 'Kilometer', 'IsNotRepaired', 'IsManualGearbox']:\n",
    "    data[col] = pd.to_numeric(data[col], downcast='integer')\n",
    "data.info()"
   ]
  },
  {
   "cell_type": "markdown",
   "metadata": {},
   "source": [
    "### Вывод:"
   ]
  },
  {
   "cell_type": "markdown",
   "metadata": {},
   "source": [
    "Былы изучены данные. Заполнены пропуски, удалены аномальные и пропущенные значения. Отобраны небходимые столбцы для обучения модели. Заменены два категориальных признака на численные."
   ]
  },
  {
   "cell_type": "markdown",
   "metadata": {},
   "source": [
    "## Обучение моделей"
   ]
  },
  {
   "cell_type": "markdown",
   "metadata": {},
   "source": [
    "Выберем следующие регрессоры для обучения модели:\n",
    "\n",
    "1. LinearRegression;\n",
    "2. DecisionTreeRegressor;\n",
    "3. CatBoostRegressor;\n",
    "4. LGBMRegressor.\n",
    "\n",
    "В качестве метрики для всех моделей будем использовать MSE и в финальной таблице переведем в RMSE. Качество моделей будем проверять на кроссвалидации."
   ]
  },
  {
   "cell_type": "markdown",
   "metadata": {},
   "source": [
    "### Подготовим признаки"
   ]
  },
  {
   "cell_type": "markdown",
   "metadata": {},
   "source": [
    "Подготовим три типа признаков для кроссвалидации:\n",
    "\n",
    "- Неизмененные - features;\n",
    "- Закодированные методом OHE - ohe_features;\n",
    "- Закодированные методом OE - ordinal_features."
   ]
  },
  {
   "cell_type": "code",
   "execution_count": 39,
   "metadata": {},
   "outputs": [],
   "source": [
    "features = data.drop('Price', axis=1)\n",
    "target = data['Price']\n",
    "\n",
    "features_train, features_test, target_train, target_test = train_test_split(features, target, test_size=0.25, \n",
    "                                                                            random_state=12345)"
   ]
  },
  {
   "cell_type": "code",
   "execution_count": 40,
   "metadata": {},
   "outputs": [],
   "source": [
    "ohe_features = pd.get_dummies(features, drop_first=True)\n",
    "\n",
    "ohe_features_train = ohe_features.loc[features_train.index, :]\n",
    "ohe_features_test = ohe_features.loc[features_test.index, :]"
   ]
  },
  {
   "cell_type": "code",
   "execution_count": 41,
   "metadata": {},
   "outputs": [],
   "source": [
    "encoder = OrdinalEncoder()\n",
    "cat_columns = ['VehicleType', 'Model', 'FuelType', 'Brand']\n",
    "cat_features = features[cat_columns]\n",
    "cat_features = pd.DataFrame(encoder.fit_transform(cat_features),\n",
    "                                columns=cat_features.columns, \n",
    "                                index=cat_features.index)\n",
    "ordinal_features = features.copy()\n",
    "for column in cat_columns:\n",
    "    ordinal_features[column] = cat_features[column]\n",
    "    \n",
    "ordinal_features_train = ordinal_features.loc[features_train.index, :]\n",
    "ordinal_features_test = ordinal_features.loc[features_test.index, :]"
   ]
  },
  {
   "cell_type": "markdown",
   "metadata": {},
   "source": [
    "### Linear Regression"
   ]
  },
  {
   "cell_type": "code",
   "execution_count": 42,
   "metadata": {},
   "outputs": [
    {
     "name": "stdout",
     "output_type": "stream",
     "text": [
      "Средний показатель RMSE для кросс-валидации LinearRegression = 1771.1818062153911\n",
      "CPU times: total: 43.5 s\n",
      "Wall time: 12.5 s\n"
     ]
    }
   ],
   "source": [
    "%%time\n",
    "\n",
    "model = LinearRegression()\n",
    "cv_RMSE_LR = (cross_val_score(model, \n",
    "                             ohe_features_train, \n",
    "                             target_train, \n",
    "                             cv=5, \n",
    "                             scoring='neg_mean_squared_error').mean() * -1) ** 0.5\n",
    "print('Средний показатель RMSE для кросс-валидации LinearRegression =', cv_RMSE_LR)"
   ]
  },
  {
   "cell_type": "code",
   "execution_count": 43,
   "metadata": {
    "scrolled": true
   },
   "outputs": [
    {
     "name": "stdout",
     "output_type": "stream",
     "text": [
      "Средний показатель RMSE для кросс-валидации LinearRegression = 7371005930546.592\n",
      "CPU times: total: 48.4 s\n",
      "Wall time: 17.3 s\n"
     ]
    }
   ],
   "source": [
    "%%time\n",
    "\n",
    "model = LinearRegression()\n",
    "scaller = StandardScaler()\n",
    "pipeline = Pipeline([(\"standard_scaller\", scaller),(\"linear_regression\", model)])\n",
    "cv_RMSE_LR_S = (cross_val_score(pipeline,\n",
    "                                ohe_features_train, \n",
    "                                target_train, \n",
    "                                cv=5, \n",
    "                                scoring='neg_mean_squared_error').mean() * -1) ** 0.5\n",
    "print('Средний показатель RMSE для кросс-валидации LinearRegression =', cv_RMSE_LR_S)"
   ]
  },
  {
   "cell_type": "markdown",
   "metadata": {},
   "source": [
    "Масштабирование ухудшает модель, применять его мы не будем."
   ]
  },
  {
   "cell_type": "markdown",
   "metadata": {},
   "source": [
    "### Decision Tree Regressor"
   ]
  },
  {
   "cell_type": "markdown",
   "metadata": {},
   "source": [
    "Данную модель обучим как на OHE-закодированных данных, так и на OE-закодированных."
   ]
  },
  {
   "cell_type": "markdown",
   "metadata": {},
   "source": [
    "#### Обучение на OHE-закодированных данных"
   ]
  },
  {
   "cell_type": "code",
   "execution_count": 44,
   "metadata": {},
   "outputs": [
    {
     "name": "stdout",
     "output_type": "stream",
     "text": [
      "Параметр 'max_depth' с лучшим RMSE: 16 \n",
      "\n",
      "Показатель RMSE при различных значениях 'max_depth':\n",
      "\n",
      "   RMSE   |'max_depth'\n",
      "----------|-----------\n",
      "2133.8069 |     2     \n",
      "1962.1141 |     3     \n",
      "1789.0931 |     4     \n",
      "1690.9112 |     5     \n",
      "1610.4809 |     6     \n",
      "1546.3602 |     7     \n",
      "1493.9271 |     8     \n",
      "1450.4356 |     9     \n",
      "1410.3091 |     10     \n",
      "1381.3814 |     11     \n",
      "1357.2122 |     12     \n",
      "1342.0189 |     13     \n",
      "1332.0877 |     14     \n",
      "1328.1429 |     15     \n",
      "1326.5265 |     16     \n",
      "1327.8794 |     17     \n",
      "1328.3102 |     18     \n",
      "1329.4746 |     19     \n",
      "1333.7023 |     20     \n",
      "1336.7440 |     21     \n",
      "1339.3759 |     22     \n",
      "1346.8945 |     23     \n",
      "1349.5521 |     24     \n",
      "1351.7885 |     25     \n",
      "1353.5176 |     26     \n",
      "1354.8712 |     27     \n",
      "1356.9144 |     28     \n",
      "1357.0030 |     29     \n",
      "1362.2768 |     30     \n",
      "\n",
      "CPU times: total: 7min 2s\n",
      "Wall time: 7min 2s\n"
     ]
    }
   ],
   "source": [
    "%%time\n",
    "\n",
    "model = DecisionTreeRegressor() \n",
    "max_depth_list = [x for x in range(2, 31)]\n",
    "hyperparams = [{'criterion':['mse'], \n",
    "                'max_depth':max_depth_list, \n",
    "                'random_state':[12345]}]\n",
    "\n",
    "clf = GridSearchCV(model, hyperparams, scoring='neg_mean_squared_error')\n",
    "clf.fit(ohe_features_train, target_train)\n",
    "print(\"Параметр 'max_depth' с лучшим RMSE:\", clf.best_params_['max_depth'], \"\\n\")\n",
    "print(\"Показатель RMSE при различных значениях 'max_depth':\\n\")\n",
    "print(\"   RMSE   |'max_depth'\")\n",
    "print(\"----------|-----------\")\n",
    "means = clf.cv_results_['mean_test_score']\n",
    "stds = clf.cv_results_['std_test_score']\n",
    "for mean, std, params in zip(means, stds, clf.cv_results_['params']):\n",
    "    print(\"%0.4f |     %r     \"% ((mean*-1)** 0.5, params['max_depth']))\n",
    "        \n",
    "print()\n",
    "\n",
    "cv_RMSE_DTR_ohe = (max(means)*-1) ** 0.5"
   ]
  },
  {
   "cell_type": "markdown",
   "metadata": {},
   "source": [
    "#### Обучение на OE-закодированных данных"
   ]
  },
  {
   "cell_type": "code",
   "execution_count": 45,
   "metadata": {},
   "outputs": [
    {
     "name": "stdout",
     "output_type": "stream",
     "text": [
      "Параметр 'max_depth' с лучшим RMSE: 14 \n",
      "\n",
      "Показатель RMSE при различных значениях 'max_depth':\n",
      "\n",
      "   RMSE   |'max_depth'\n",
      "----------|-----------\n",
      "2133.8069 |     2     \n",
      "1964.9635 |     3     \n",
      "1792.1820 |     4     \n",
      "1688.1704 |     5     \n",
      "1601.3873 |     6     \n",
      "1537.8649 |     7     \n",
      "1480.9946 |     8     \n",
      "1438.8638 |     9     \n",
      "1401.7282 |     10     \n",
      "1372.4229 |     11     \n",
      "1350.3971 |     12     \n",
      "1337.4160 |     13     \n",
      "1330.6715 |     14     \n",
      "1334.1033 |     15     \n",
      "1343.7684 |     16     \n",
      "1353.2993 |     17     \n",
      "1364.4771 |     18     \n",
      "1372.4929 |     19     \n",
      "1382.9156 |     20     \n",
      "1385.8042 |     21     \n",
      "1387.8913 |     22     \n",
      "1390.8620 |     23     \n",
      "1393.9412 |     24     \n",
      "1398.0297 |     25     \n",
      "1399.9343 |     26     \n",
      "1396.8045 |     27     \n",
      "1398.3772 |     28     \n",
      "1399.5687 |     29     \n",
      "1398.8308 |     30     \n",
      "\n",
      "CPU times: total: 45 s\n",
      "Wall time: 45 s\n"
     ]
    }
   ],
   "source": [
    "%%time\n",
    "\n",
    "model = DecisionTreeRegressor() \n",
    "max_depth_list = [x for x in range(2, 31)]\n",
    "hyperparams = [{'criterion':['mse'], \n",
    "                'max_depth':max_depth_list, \n",
    "                'random_state':[12345]}]\n",
    "\n",
    "clf = GridSearchCV(model, hyperparams, scoring='neg_mean_squared_error')\n",
    "clf.fit(ordinal_features_train, target_train)\n",
    "print(\"Параметр 'max_depth' с лучшим RMSE:\", clf.best_params_['max_depth'], \"\\n\")\n",
    "print(\"Показатель RMSE при различных значениях 'max_depth':\\n\")\n",
    "print(\"   RMSE   |'max_depth'\")\n",
    "print(\"----------|-----------\")\n",
    "means = clf.cv_results_['mean_test_score']\n",
    "stds = clf.cv_results_['std_test_score']\n",
    "for mean, std, params in zip(means, stds, clf.cv_results_['params']):\n",
    "    print(\"%0.4f |     %r     \"% ((mean*-1)** 0.5, params['max_depth']))\n",
    "print()\n",
    "\n",
    "cv_RMSE_DTR_ordinal = (max(means)*-1) ** 0.5"
   ]
  },
  {
   "cell_type": "markdown",
   "metadata": {},
   "source": [
    "### Cat Boost Regressor"
   ]
  },
  {
   "cell_type": "markdown",
   "metadata": {},
   "source": [
    "Данную модель обучим как на исходных признаках(с указанием тех из них, которые являются категориальными), так и на OE-закодированных."
   ]
  },
  {
   "cell_type": "markdown",
   "metadata": {},
   "source": [
    "#### Обучение на OE-закодированных данных"
   ]
  },
  {
   "cell_type": "code",
   "execution_count": 46,
   "metadata": {},
   "outputs": [
    {
     "name": "stdout",
     "output_type": "stream",
     "text": [
      "Параметр 'learning_rate' модели с лучшим RMSE: 0.5 \n",
      "\n",
      "Показатель RMSE при различных значениях 'learning_rate':\n",
      "\n",
      "   RMSE   |'learning_rate'\n",
      "----------|---------------\n",
      "1165.3554 |      0.1       \n",
      "1150.7402 |      0.5       \n",
      "1163.4554 |      0.8       \n",
      "\n",
      "CPU times: total: 27min 29s\n",
      "Wall time: 3min 10s\n"
     ]
    }
   ],
   "source": [
    "%%time\n",
    "\n",
    "model = CatBoostRegressor() \n",
    "hyperparams = [{'learning_rate':[0.1, 0.5, 0.8],\n",
    "                'random_state':[12345],\n",
    "                'verbose':[False]}]\n",
    "\n",
    "clf = GridSearchCV(model, hyperparams, scoring='neg_mean_squared_error')\n",
    "clf.fit(ordinal_features_train, target_train)\n",
    "print(\"Параметр 'learning_rate' модели с лучшим RMSE:\", clf.best_params_['learning_rate'], \"\\n\")\n",
    "print(\"Показатель RMSE при различных значениях 'learning_rate':\\n\")\n",
    "print(\"   RMSE   |'learning_rate'\")\n",
    "print(\"----------|---------------\")\n",
    "means = clf.cv_results_['mean_test_score']\n",
    "stds = clf.cv_results_['std_test_score']\n",
    "for mean, std, params in zip(means, stds, clf.cv_results_['params']):\n",
    "    print(\"%0.4f |      %r       \"% ((mean*-1)** 0.5, params['learning_rate']))\n",
    "print()\n",
    "\n",
    "cv_RMSE_CBR_ordinal = (max(means)*-1) ** 0.5"
   ]
  },
  {
   "cell_type": "markdown",
   "metadata": {},
   "source": [
    "#### Обучение на исходных признаках (с указанием категориальных)"
   ]
  },
  {
   "cell_type": "code",
   "execution_count": 47,
   "metadata": {},
   "outputs": [
    {
     "name": "stdout",
     "output_type": "stream",
     "text": [
      "Средний показатель RMSE для кросс-валидации для CatBoostRegressor = 1177.4352578193461\n",
      "CPU times: total: 5min 51s\n",
      "Wall time: 1min 31s\n"
     ]
    }
   ],
   "source": [
    "%%time\n",
    "\n",
    "model = CatBoostRegressor(learning_rate = 0.5, \n",
    "                          iterations = 200,\n",
    "                          random_state = 12345, \n",
    "                          verbose = False, \n",
    "                          cat_features = cat_columns) \n",
    "cv_RMSE_CBR_original = (cross_val_score(model,\n",
    "                                        features_train, \n",
    "                                        target_train, \n",
    "                                        cv=5, \n",
    "                                        scoring='neg_mean_squared_error').mean() * -1) ** 0.5\n",
    "print('Средний показатель RMSE для кросс-валидации для CatBoostRegressor =', cv_RMSE_CBR_original)"
   ]
  },
  {
   "cell_type": "markdown",
   "metadata": {},
   "source": [
    "### LGBM Regressor"
   ]
  },
  {
   "cell_type": "code",
   "execution_count": 48,
   "metadata": {},
   "outputs": [
    {
     "name": "stdout",
     "output_type": "stream",
     "text": [
      "Параметры модели с лучшим RMSE: 'num_leaves' - 200  и 'learning_rate' - 0.3 \n",
      "\n",
      "Показатель RMSE при различных значениях 'num_leaves' и 'learning_rate':\n",
      "\n",
      "   RMSE   |'learning_rate'|'num_leaves'\n",
      "----------|---------------|------------\n",
      "1219.4132 |      0.1      |     31     \n",
      "1166.8576 |      0.1      |     100     \n",
      "1147.2796 |      0.1      |     200     \n",
      "1179.6760 |      0.3      |     31     \n",
      "1150.4351 |      0.3      |     100     \n",
      "1144.2554 |      0.3      |     200     \n",
      "1179.5259 |      0.5      |     31     \n",
      "1163.2577 |      0.5      |     100     \n",
      "1166.1605 |      0.5      |     200     \n",
      "\n",
      "CPU times: total: 5min 20s\n",
      "Wall time: 27.8 s\n"
     ]
    }
   ],
   "source": [
    "%%time\n",
    "\n",
    "model = LGBMRegressor() \n",
    "hyperparams = [{'num_leaves':[31, 100, 200], \n",
    "                'learning_rate':[0.1, 0.3, 0.5],\n",
    "                'random_state':[12345]}]\n",
    "\n",
    "clf = GridSearchCV(model, hyperparams, scoring='neg_mean_squared_error')\n",
    "clf.fit(ordinal_features_train, target_train)\n",
    "print(\"Параметры модели с лучшим RMSE: 'num_leaves' -\", clf.best_params_['num_leaves'], \n",
    "      \" и 'learning_rate' -\", clf.best_params_['learning_rate'], \"\\n\")\n",
    "print(\"Показатель RMSE при различных значениях 'num_leaves' и 'learning_rate':\\n\")\n",
    "print(\"   RMSE   |'learning_rate'|'num_leaves'\")\n",
    "print(\"----------|---------------|------------\")\n",
    "means = clf.cv_results_['mean_test_score']\n",
    "stds = clf.cv_results_['std_test_score']\n",
    "for mean, std, params in zip(means, stds, clf.cv_results_['params']):\n",
    "    print(\"%0.4f |      %r      |     %r     \"% ((mean*-1)** 0.5, params['learning_rate'], params['num_leaves']))\n",
    "print()\n",
    "\n",
    "cv_RMSE_LGBMR = (max(means)*-1) ** 0.5"
   ]
  },
  {
   "cell_type": "markdown",
   "metadata": {},
   "source": [
    "### Вывод:"
   ]
  },
  {
   "cell_type": "markdown",
   "metadata": {},
   "source": [
    "Были обучены 4 модели, сохранены лучшие гиперпараметры и время обучения."
   ]
  },
  {
   "cell_type": "markdown",
   "metadata": {},
   "source": [
    "## Анализ моделей"
   ]
  },
  {
   "cell_type": "markdown",
   "metadata": {},
   "source": [
    "Проведем обучение моделей с наилучшими параметрами."
   ]
  },
  {
   "cell_type": "markdown",
   "metadata": {},
   "source": [
    "### Linear Regression"
   ]
  },
  {
   "cell_type": "code",
   "execution_count": 49,
   "metadata": {},
   "outputs": [
    {
     "name": "stdout",
     "output_type": "stream",
     "text": [
      "CPU times: total: 11.1 s\n",
      "Wall time: 2.89 s\n"
     ]
    },
    {
     "data": {
      "text/html": [
       "<style>#sk-container-id-1 {color: black;background-color: white;}#sk-container-id-1 pre{padding: 0;}#sk-container-id-1 div.sk-toggleable {background-color: white;}#sk-container-id-1 label.sk-toggleable__label {cursor: pointer;display: block;width: 100%;margin-bottom: 0;padding: 0.3em;box-sizing: border-box;text-align: center;}#sk-container-id-1 label.sk-toggleable__label-arrow:before {content: \"▸\";float: left;margin-right: 0.25em;color: #696969;}#sk-container-id-1 label.sk-toggleable__label-arrow:hover:before {color: black;}#sk-container-id-1 div.sk-estimator:hover label.sk-toggleable__label-arrow:before {color: black;}#sk-container-id-1 div.sk-toggleable__content {max-height: 0;max-width: 0;overflow: hidden;text-align: left;background-color: #f0f8ff;}#sk-container-id-1 div.sk-toggleable__content pre {margin: 0.2em;color: black;border-radius: 0.25em;background-color: #f0f8ff;}#sk-container-id-1 input.sk-toggleable__control:checked~div.sk-toggleable__content {max-height: 200px;max-width: 100%;overflow: auto;}#sk-container-id-1 input.sk-toggleable__control:checked~label.sk-toggleable__label-arrow:before {content: \"▾\";}#sk-container-id-1 div.sk-estimator input.sk-toggleable__control:checked~label.sk-toggleable__label {background-color: #d4ebff;}#sk-container-id-1 div.sk-label input.sk-toggleable__control:checked~label.sk-toggleable__label {background-color: #d4ebff;}#sk-container-id-1 input.sk-hidden--visually {border: 0;clip: rect(1px 1px 1px 1px);clip: rect(1px, 1px, 1px, 1px);height: 1px;margin: -1px;overflow: hidden;padding: 0;position: absolute;width: 1px;}#sk-container-id-1 div.sk-estimator {font-family: monospace;background-color: #f0f8ff;border: 1px dotted black;border-radius: 0.25em;box-sizing: border-box;margin-bottom: 0.5em;}#sk-container-id-1 div.sk-estimator:hover {background-color: #d4ebff;}#sk-container-id-1 div.sk-parallel-item::after {content: \"\";width: 100%;border-bottom: 1px solid gray;flex-grow: 1;}#sk-container-id-1 div.sk-label:hover label.sk-toggleable__label {background-color: #d4ebff;}#sk-container-id-1 div.sk-serial::before {content: \"\";position: absolute;border-left: 1px solid gray;box-sizing: border-box;top: 0;bottom: 0;left: 50%;z-index: 0;}#sk-container-id-1 div.sk-serial {display: flex;flex-direction: column;align-items: center;background-color: white;padding-right: 0.2em;padding-left: 0.2em;position: relative;}#sk-container-id-1 div.sk-item {position: relative;z-index: 1;}#sk-container-id-1 div.sk-parallel {display: flex;align-items: stretch;justify-content: center;background-color: white;position: relative;}#sk-container-id-1 div.sk-item::before, #sk-container-id-1 div.sk-parallel-item::before {content: \"\";position: absolute;border-left: 1px solid gray;box-sizing: border-box;top: 0;bottom: 0;left: 50%;z-index: -1;}#sk-container-id-1 div.sk-parallel-item {display: flex;flex-direction: column;z-index: 1;position: relative;background-color: white;}#sk-container-id-1 div.sk-parallel-item:first-child::after {align-self: flex-end;width: 50%;}#sk-container-id-1 div.sk-parallel-item:last-child::after {align-self: flex-start;width: 50%;}#sk-container-id-1 div.sk-parallel-item:only-child::after {width: 0;}#sk-container-id-1 div.sk-dashed-wrapped {border: 1px dashed gray;margin: 0 0.4em 0.5em 0.4em;box-sizing: border-box;padding-bottom: 0.4em;background-color: white;}#sk-container-id-1 div.sk-label label {font-family: monospace;font-weight: bold;display: inline-block;line-height: 1.2em;}#sk-container-id-1 div.sk-label-container {text-align: center;}#sk-container-id-1 div.sk-container {/* jupyter's `normalize.less` sets `[hidden] { display: none; }` but bootstrap.min.css set `[hidden] { display: none !important; }` so we also need the `!important` here to be able to override the default hidden behavior on the sphinx rendered scikit-learn.org. See: https://github.com/scikit-learn/scikit-learn/issues/21755 */display: inline-block !important;position: relative;}#sk-container-id-1 div.sk-text-repr-fallback {display: none;}</style><div id=\"sk-container-id-1\" class=\"sk-top-container\"><div class=\"sk-text-repr-fallback\"><pre>LinearRegression()</pre><b>In a Jupyter environment, please rerun this cell to show the HTML representation or trust the notebook. <br />On GitHub, the HTML representation is unable to render, please try loading this page with nbviewer.org.</b></div><div class=\"sk-container\" hidden><div class=\"sk-item\"><div class=\"sk-estimator sk-toggleable\"><input class=\"sk-toggleable__control sk-hidden--visually\" id=\"sk-estimator-id-1\" type=\"checkbox\" checked><label for=\"sk-estimator-id-1\" class=\"sk-toggleable__label sk-toggleable__label-arrow\">LinearRegression</label><div class=\"sk-toggleable__content\"><pre>LinearRegression()</pre></div></div></div></div></div>"
      ],
      "text/plain": [
       "LinearRegression()"
      ]
     },
     "execution_count": 49,
     "metadata": {},
     "output_type": "execute_result"
    }
   ],
   "source": [
    "%%time\n",
    "\n",
    "model = LinearRegression()\n",
    "model.fit(ohe_features_train, target_train)"
   ]
  },
  {
   "cell_type": "code",
   "execution_count": 50,
   "metadata": {},
   "outputs": [
    {
     "name": "stdout",
     "output_type": "stream",
     "text": [
      "CPU times: total: 656 ms\n",
      "Wall time: 98.6 ms\n"
     ]
    }
   ],
   "source": [
    "%%time\n",
    "\n",
    "target_predict = model.predict(ohe_features_test)"
   ]
  },
  {
   "cell_type": "code",
   "execution_count": 51,
   "metadata": {},
   "outputs": [],
   "source": [
    "final_RMSE_LR = mean_squared_error(target_test, target_predict) ** 0.5"
   ]
  },
  {
   "cell_type": "markdown",
   "metadata": {},
   "source": [
    "### Decision Tree Regressor"
   ]
  },
  {
   "cell_type": "markdown",
   "metadata": {},
   "source": [
    "#### Обучение на OHE-закодированных данных"
   ]
  },
  {
   "cell_type": "code",
   "execution_count": 52,
   "metadata": {},
   "outputs": [
    {
     "name": "stdout",
     "output_type": "stream",
     "text": [
      "CPU times: total: 3.83 s\n",
      "Wall time: 3.81 s\n"
     ]
    },
    {
     "data": {
      "text/html": [
       "<style>#sk-container-id-2 {color: black;background-color: white;}#sk-container-id-2 pre{padding: 0;}#sk-container-id-2 div.sk-toggleable {background-color: white;}#sk-container-id-2 label.sk-toggleable__label {cursor: pointer;display: block;width: 100%;margin-bottom: 0;padding: 0.3em;box-sizing: border-box;text-align: center;}#sk-container-id-2 label.sk-toggleable__label-arrow:before {content: \"▸\";float: left;margin-right: 0.25em;color: #696969;}#sk-container-id-2 label.sk-toggleable__label-arrow:hover:before {color: black;}#sk-container-id-2 div.sk-estimator:hover label.sk-toggleable__label-arrow:before {color: black;}#sk-container-id-2 div.sk-toggleable__content {max-height: 0;max-width: 0;overflow: hidden;text-align: left;background-color: #f0f8ff;}#sk-container-id-2 div.sk-toggleable__content pre {margin: 0.2em;color: black;border-radius: 0.25em;background-color: #f0f8ff;}#sk-container-id-2 input.sk-toggleable__control:checked~div.sk-toggleable__content {max-height: 200px;max-width: 100%;overflow: auto;}#sk-container-id-2 input.sk-toggleable__control:checked~label.sk-toggleable__label-arrow:before {content: \"▾\";}#sk-container-id-2 div.sk-estimator input.sk-toggleable__control:checked~label.sk-toggleable__label {background-color: #d4ebff;}#sk-container-id-2 div.sk-label input.sk-toggleable__control:checked~label.sk-toggleable__label {background-color: #d4ebff;}#sk-container-id-2 input.sk-hidden--visually {border: 0;clip: rect(1px 1px 1px 1px);clip: rect(1px, 1px, 1px, 1px);height: 1px;margin: -1px;overflow: hidden;padding: 0;position: absolute;width: 1px;}#sk-container-id-2 div.sk-estimator {font-family: monospace;background-color: #f0f8ff;border: 1px dotted black;border-radius: 0.25em;box-sizing: border-box;margin-bottom: 0.5em;}#sk-container-id-2 div.sk-estimator:hover {background-color: #d4ebff;}#sk-container-id-2 div.sk-parallel-item::after {content: \"\";width: 100%;border-bottom: 1px solid gray;flex-grow: 1;}#sk-container-id-2 div.sk-label:hover label.sk-toggleable__label {background-color: #d4ebff;}#sk-container-id-2 div.sk-serial::before {content: \"\";position: absolute;border-left: 1px solid gray;box-sizing: border-box;top: 0;bottom: 0;left: 50%;z-index: 0;}#sk-container-id-2 div.sk-serial {display: flex;flex-direction: column;align-items: center;background-color: white;padding-right: 0.2em;padding-left: 0.2em;position: relative;}#sk-container-id-2 div.sk-item {position: relative;z-index: 1;}#sk-container-id-2 div.sk-parallel {display: flex;align-items: stretch;justify-content: center;background-color: white;position: relative;}#sk-container-id-2 div.sk-item::before, #sk-container-id-2 div.sk-parallel-item::before {content: \"\";position: absolute;border-left: 1px solid gray;box-sizing: border-box;top: 0;bottom: 0;left: 50%;z-index: -1;}#sk-container-id-2 div.sk-parallel-item {display: flex;flex-direction: column;z-index: 1;position: relative;background-color: white;}#sk-container-id-2 div.sk-parallel-item:first-child::after {align-self: flex-end;width: 50%;}#sk-container-id-2 div.sk-parallel-item:last-child::after {align-self: flex-start;width: 50%;}#sk-container-id-2 div.sk-parallel-item:only-child::after {width: 0;}#sk-container-id-2 div.sk-dashed-wrapped {border: 1px dashed gray;margin: 0 0.4em 0.5em 0.4em;box-sizing: border-box;padding-bottom: 0.4em;background-color: white;}#sk-container-id-2 div.sk-label label {font-family: monospace;font-weight: bold;display: inline-block;line-height: 1.2em;}#sk-container-id-2 div.sk-label-container {text-align: center;}#sk-container-id-2 div.sk-container {/* jupyter's `normalize.less` sets `[hidden] { display: none; }` but bootstrap.min.css set `[hidden] { display: none !important; }` so we also need the `!important` here to be able to override the default hidden behavior on the sphinx rendered scikit-learn.org. See: https://github.com/scikit-learn/scikit-learn/issues/21755 */display: inline-block !important;position: relative;}#sk-container-id-2 div.sk-text-repr-fallback {display: none;}</style><div id=\"sk-container-id-2\" class=\"sk-top-container\"><div class=\"sk-text-repr-fallback\"><pre>DecisionTreeRegressor(criterion=&#x27;mse&#x27;, max_depth=16, random_state=12345)</pre><b>In a Jupyter environment, please rerun this cell to show the HTML representation or trust the notebook. <br />On GitHub, the HTML representation is unable to render, please try loading this page with nbviewer.org.</b></div><div class=\"sk-container\" hidden><div class=\"sk-item\"><div class=\"sk-estimator sk-toggleable\"><input class=\"sk-toggleable__control sk-hidden--visually\" id=\"sk-estimator-id-2\" type=\"checkbox\" checked><label for=\"sk-estimator-id-2\" class=\"sk-toggleable__label sk-toggleable__label-arrow\">DecisionTreeRegressor</label><div class=\"sk-toggleable__content\"><pre>DecisionTreeRegressor(criterion=&#x27;mse&#x27;, max_depth=16, random_state=12345)</pre></div></div></div></div></div>"
      ],
      "text/plain": [
       "DecisionTreeRegressor(criterion='mse', max_depth=16, random_state=12345)"
      ]
     },
     "execution_count": 52,
     "metadata": {},
     "output_type": "execute_result"
    }
   ],
   "source": [
    "%%time\n",
    "\n",
    "model = DecisionTreeRegressor(criterion='mse', \n",
    "                              max_depth=16, \n",
    "                              random_state=12345) \n",
    "model.fit(ohe_features_train, target_train)"
   ]
  },
  {
   "cell_type": "code",
   "execution_count": 53,
   "metadata": {},
   "outputs": [
    {
     "name": "stdout",
     "output_type": "stream",
     "text": [
      "CPU times: total: 78.1 ms\n",
      "Wall time: 82 ms\n"
     ]
    }
   ],
   "source": [
    "%%time\n",
    "\n",
    "target_predict = model.predict(ohe_features_test)"
   ]
  },
  {
   "cell_type": "code",
   "execution_count": 54,
   "metadata": {},
   "outputs": [],
   "source": [
    "final_RMSE_DTR_ohe = mean_squared_error(target_test, target_predict) ** 0.5"
   ]
  },
  {
   "cell_type": "markdown",
   "metadata": {},
   "source": [
    "#### Обучение на OE-закодированных данных"
   ]
  },
  {
   "cell_type": "code",
   "execution_count": 55,
   "metadata": {},
   "outputs": [
    {
     "name": "stdout",
     "output_type": "stream",
     "text": [
      "CPU times: total: 375 ms\n",
      "Wall time: 369 ms\n"
     ]
    },
    {
     "data": {
      "text/html": [
       "<style>#sk-container-id-3 {color: black;background-color: white;}#sk-container-id-3 pre{padding: 0;}#sk-container-id-3 div.sk-toggleable {background-color: white;}#sk-container-id-3 label.sk-toggleable__label {cursor: pointer;display: block;width: 100%;margin-bottom: 0;padding: 0.3em;box-sizing: border-box;text-align: center;}#sk-container-id-3 label.sk-toggleable__label-arrow:before {content: \"▸\";float: left;margin-right: 0.25em;color: #696969;}#sk-container-id-3 label.sk-toggleable__label-arrow:hover:before {color: black;}#sk-container-id-3 div.sk-estimator:hover label.sk-toggleable__label-arrow:before {color: black;}#sk-container-id-3 div.sk-toggleable__content {max-height: 0;max-width: 0;overflow: hidden;text-align: left;background-color: #f0f8ff;}#sk-container-id-3 div.sk-toggleable__content pre {margin: 0.2em;color: black;border-radius: 0.25em;background-color: #f0f8ff;}#sk-container-id-3 input.sk-toggleable__control:checked~div.sk-toggleable__content {max-height: 200px;max-width: 100%;overflow: auto;}#sk-container-id-3 input.sk-toggleable__control:checked~label.sk-toggleable__label-arrow:before {content: \"▾\";}#sk-container-id-3 div.sk-estimator input.sk-toggleable__control:checked~label.sk-toggleable__label {background-color: #d4ebff;}#sk-container-id-3 div.sk-label input.sk-toggleable__control:checked~label.sk-toggleable__label {background-color: #d4ebff;}#sk-container-id-3 input.sk-hidden--visually {border: 0;clip: rect(1px 1px 1px 1px);clip: rect(1px, 1px, 1px, 1px);height: 1px;margin: -1px;overflow: hidden;padding: 0;position: absolute;width: 1px;}#sk-container-id-3 div.sk-estimator {font-family: monospace;background-color: #f0f8ff;border: 1px dotted black;border-radius: 0.25em;box-sizing: border-box;margin-bottom: 0.5em;}#sk-container-id-3 div.sk-estimator:hover {background-color: #d4ebff;}#sk-container-id-3 div.sk-parallel-item::after {content: \"\";width: 100%;border-bottom: 1px solid gray;flex-grow: 1;}#sk-container-id-3 div.sk-label:hover label.sk-toggleable__label {background-color: #d4ebff;}#sk-container-id-3 div.sk-serial::before {content: \"\";position: absolute;border-left: 1px solid gray;box-sizing: border-box;top: 0;bottom: 0;left: 50%;z-index: 0;}#sk-container-id-3 div.sk-serial {display: flex;flex-direction: column;align-items: center;background-color: white;padding-right: 0.2em;padding-left: 0.2em;position: relative;}#sk-container-id-3 div.sk-item {position: relative;z-index: 1;}#sk-container-id-3 div.sk-parallel {display: flex;align-items: stretch;justify-content: center;background-color: white;position: relative;}#sk-container-id-3 div.sk-item::before, #sk-container-id-3 div.sk-parallel-item::before {content: \"\";position: absolute;border-left: 1px solid gray;box-sizing: border-box;top: 0;bottom: 0;left: 50%;z-index: -1;}#sk-container-id-3 div.sk-parallel-item {display: flex;flex-direction: column;z-index: 1;position: relative;background-color: white;}#sk-container-id-3 div.sk-parallel-item:first-child::after {align-self: flex-end;width: 50%;}#sk-container-id-3 div.sk-parallel-item:last-child::after {align-self: flex-start;width: 50%;}#sk-container-id-3 div.sk-parallel-item:only-child::after {width: 0;}#sk-container-id-3 div.sk-dashed-wrapped {border: 1px dashed gray;margin: 0 0.4em 0.5em 0.4em;box-sizing: border-box;padding-bottom: 0.4em;background-color: white;}#sk-container-id-3 div.sk-label label {font-family: monospace;font-weight: bold;display: inline-block;line-height: 1.2em;}#sk-container-id-3 div.sk-label-container {text-align: center;}#sk-container-id-3 div.sk-container {/* jupyter's `normalize.less` sets `[hidden] { display: none; }` but bootstrap.min.css set `[hidden] { display: none !important; }` so we also need the `!important` here to be able to override the default hidden behavior on the sphinx rendered scikit-learn.org. See: https://github.com/scikit-learn/scikit-learn/issues/21755 */display: inline-block !important;position: relative;}#sk-container-id-3 div.sk-text-repr-fallback {display: none;}</style><div id=\"sk-container-id-3\" class=\"sk-top-container\"><div class=\"sk-text-repr-fallback\"><pre>DecisionTreeRegressor(criterion=&#x27;mse&#x27;, max_depth=13, random_state=12345)</pre><b>In a Jupyter environment, please rerun this cell to show the HTML representation or trust the notebook. <br />On GitHub, the HTML representation is unable to render, please try loading this page with nbviewer.org.</b></div><div class=\"sk-container\" hidden><div class=\"sk-item\"><div class=\"sk-estimator sk-toggleable\"><input class=\"sk-toggleable__control sk-hidden--visually\" id=\"sk-estimator-id-3\" type=\"checkbox\" checked><label for=\"sk-estimator-id-3\" class=\"sk-toggleable__label sk-toggleable__label-arrow\">DecisionTreeRegressor</label><div class=\"sk-toggleable__content\"><pre>DecisionTreeRegressor(criterion=&#x27;mse&#x27;, max_depth=13, random_state=12345)</pre></div></div></div></div></div>"
      ],
      "text/plain": [
       "DecisionTreeRegressor(criterion='mse', max_depth=13, random_state=12345)"
      ]
     },
     "execution_count": 55,
     "metadata": {},
     "output_type": "execute_result"
    }
   ],
   "source": [
    "%%time\n",
    "\n",
    "model = DecisionTreeRegressor(criterion='mse', \n",
    "                              max_depth=13, \n",
    "                              random_state=12345) \n",
    "model.fit(ordinal_features_train, target_train)"
   ]
  },
  {
   "cell_type": "code",
   "execution_count": 56,
   "metadata": {},
   "outputs": [
    {
     "name": "stdout",
     "output_type": "stream",
     "text": [
      "CPU times: total: 15.6 ms\n",
      "Wall time: 14 ms\n"
     ]
    }
   ],
   "source": [
    "%%time\n",
    "\n",
    "target_predict = model.predict(ordinal_features_test)"
   ]
  },
  {
   "cell_type": "code",
   "execution_count": 57,
   "metadata": {},
   "outputs": [],
   "source": [
    "final_RMSE_DTR_ordinal = mean_squared_error(target_test, target_predict) ** 0.5"
   ]
  },
  {
   "cell_type": "markdown",
   "metadata": {},
   "source": [
    "### Cat Boost Regressor"
   ]
  },
  {
   "cell_type": "markdown",
   "metadata": {},
   "source": [
    "#### Обучение на OE-закодированных данных"
   ]
  },
  {
   "cell_type": "code",
   "execution_count": 58,
   "metadata": {},
   "outputs": [
    {
     "name": "stdout",
     "output_type": "stream",
     "text": [
      "CPU times: total: 2min 3s\n",
      "Wall time: 14.2 s\n"
     ]
    },
    {
     "data": {
      "text/plain": [
       "<catboost.core.CatBoostRegressor at 0x28332877520>"
      ]
     },
     "execution_count": 58,
     "metadata": {},
     "output_type": "execute_result"
    }
   ],
   "source": [
    "%%time\n",
    "\n",
    "model = CatBoostRegressor(learning_rate=0.5, \n",
    "                          random_state=12345, \n",
    "                          verbose=False) \n",
    "model.fit(ordinal_features_train, target_train)"
   ]
  },
  {
   "cell_type": "code",
   "execution_count": 59,
   "metadata": {},
   "outputs": [
    {
     "name": "stdout",
     "output_type": "stream",
     "text": [
      "CPU times: total: 172 ms\n",
      "Wall time: 19 ms\n"
     ]
    }
   ],
   "source": [
    "%%time\n",
    "\n",
    "target_predict = model.predict(ordinal_features_test)"
   ]
  },
  {
   "cell_type": "code",
   "execution_count": 60,
   "metadata": {},
   "outputs": [],
   "source": [
    "final_RMSE_CBR_ordinal = mean_squared_error(target_test, target_predict) ** 0.5"
   ]
  },
  {
   "cell_type": "markdown",
   "metadata": {},
   "source": [
    "#### Обучение на исходных признаках (с указанием категориальных)"
   ]
  },
  {
   "cell_type": "code",
   "execution_count": 61,
   "metadata": {},
   "outputs": [
    {
     "name": "stdout",
     "output_type": "stream",
     "text": [
      "CPU times: total: 1min 30s\n",
      "Wall time: 20.1 s\n"
     ]
    },
    {
     "data": {
      "text/plain": [
       "<catboost.core.CatBoostRegressor at 0x283321dd490>"
      ]
     },
     "execution_count": 61,
     "metadata": {},
     "output_type": "execute_result"
    }
   ],
   "source": [
    "%%time\n",
    "\n",
    "model = CatBoostRegressor(learning_rate = 0.5, \n",
    "                          iterations = 200, \n",
    "                          random_state = 12345, \n",
    "                          verbose = False,\n",
    "                          cat_features = cat_columns) \n",
    "model.fit(features_train, target_train)"
   ]
  },
  {
   "cell_type": "code",
   "execution_count": 62,
   "metadata": {},
   "outputs": [
    {
     "name": "stdout",
     "output_type": "stream",
     "text": [
      "CPU times: total: 234 ms\n",
      "Wall time: 82 ms\n"
     ]
    }
   ],
   "source": [
    "%%time\n",
    "\n",
    "target_predict = model.predict(features_test)"
   ]
  },
  {
   "cell_type": "code",
   "execution_count": 63,
   "metadata": {},
   "outputs": [],
   "source": [
    "final_RMSE_CBR_original = mean_squared_error(target_test, target_predict) ** 0.5"
   ]
  },
  {
   "cell_type": "markdown",
   "metadata": {},
   "source": [
    "#### LGBM Regressor"
   ]
  },
  {
   "cell_type": "code",
   "execution_count": 64,
   "metadata": {},
   "outputs": [
    {
     "name": "stdout",
     "output_type": "stream",
     "text": [
      "CPU times: total: 10.3 s\n",
      "Wall time: 961 ms\n"
     ]
    },
    {
     "data": {
      "text/html": [
       "<style>#sk-container-id-4 {color: black;background-color: white;}#sk-container-id-4 pre{padding: 0;}#sk-container-id-4 div.sk-toggleable {background-color: white;}#sk-container-id-4 label.sk-toggleable__label {cursor: pointer;display: block;width: 100%;margin-bottom: 0;padding: 0.3em;box-sizing: border-box;text-align: center;}#sk-container-id-4 label.sk-toggleable__label-arrow:before {content: \"▸\";float: left;margin-right: 0.25em;color: #696969;}#sk-container-id-4 label.sk-toggleable__label-arrow:hover:before {color: black;}#sk-container-id-4 div.sk-estimator:hover label.sk-toggleable__label-arrow:before {color: black;}#sk-container-id-4 div.sk-toggleable__content {max-height: 0;max-width: 0;overflow: hidden;text-align: left;background-color: #f0f8ff;}#sk-container-id-4 div.sk-toggleable__content pre {margin: 0.2em;color: black;border-radius: 0.25em;background-color: #f0f8ff;}#sk-container-id-4 input.sk-toggleable__control:checked~div.sk-toggleable__content {max-height: 200px;max-width: 100%;overflow: auto;}#sk-container-id-4 input.sk-toggleable__control:checked~label.sk-toggleable__label-arrow:before {content: \"▾\";}#sk-container-id-4 div.sk-estimator input.sk-toggleable__control:checked~label.sk-toggleable__label {background-color: #d4ebff;}#sk-container-id-4 div.sk-label input.sk-toggleable__control:checked~label.sk-toggleable__label {background-color: #d4ebff;}#sk-container-id-4 input.sk-hidden--visually {border: 0;clip: rect(1px 1px 1px 1px);clip: rect(1px, 1px, 1px, 1px);height: 1px;margin: -1px;overflow: hidden;padding: 0;position: absolute;width: 1px;}#sk-container-id-4 div.sk-estimator {font-family: monospace;background-color: #f0f8ff;border: 1px dotted black;border-radius: 0.25em;box-sizing: border-box;margin-bottom: 0.5em;}#sk-container-id-4 div.sk-estimator:hover {background-color: #d4ebff;}#sk-container-id-4 div.sk-parallel-item::after {content: \"\";width: 100%;border-bottom: 1px solid gray;flex-grow: 1;}#sk-container-id-4 div.sk-label:hover label.sk-toggleable__label {background-color: #d4ebff;}#sk-container-id-4 div.sk-serial::before {content: \"\";position: absolute;border-left: 1px solid gray;box-sizing: border-box;top: 0;bottom: 0;left: 50%;z-index: 0;}#sk-container-id-4 div.sk-serial {display: flex;flex-direction: column;align-items: center;background-color: white;padding-right: 0.2em;padding-left: 0.2em;position: relative;}#sk-container-id-4 div.sk-item {position: relative;z-index: 1;}#sk-container-id-4 div.sk-parallel {display: flex;align-items: stretch;justify-content: center;background-color: white;position: relative;}#sk-container-id-4 div.sk-item::before, #sk-container-id-4 div.sk-parallel-item::before {content: \"\";position: absolute;border-left: 1px solid gray;box-sizing: border-box;top: 0;bottom: 0;left: 50%;z-index: -1;}#sk-container-id-4 div.sk-parallel-item {display: flex;flex-direction: column;z-index: 1;position: relative;background-color: white;}#sk-container-id-4 div.sk-parallel-item:first-child::after {align-self: flex-end;width: 50%;}#sk-container-id-4 div.sk-parallel-item:last-child::after {align-self: flex-start;width: 50%;}#sk-container-id-4 div.sk-parallel-item:only-child::after {width: 0;}#sk-container-id-4 div.sk-dashed-wrapped {border: 1px dashed gray;margin: 0 0.4em 0.5em 0.4em;box-sizing: border-box;padding-bottom: 0.4em;background-color: white;}#sk-container-id-4 div.sk-label label {font-family: monospace;font-weight: bold;display: inline-block;line-height: 1.2em;}#sk-container-id-4 div.sk-label-container {text-align: center;}#sk-container-id-4 div.sk-container {/* jupyter's `normalize.less` sets `[hidden] { display: none; }` but bootstrap.min.css set `[hidden] { display: none !important; }` so we also need the `!important` here to be able to override the default hidden behavior on the sphinx rendered scikit-learn.org. See: https://github.com/scikit-learn/scikit-learn/issues/21755 */display: inline-block !important;position: relative;}#sk-container-id-4 div.sk-text-repr-fallback {display: none;}</style><div id=\"sk-container-id-4\" class=\"sk-top-container\"><div class=\"sk-text-repr-fallback\"><pre>LGBMRegressor(learning_rate=0.3, num_leaves=200, random_state=12345)</pre><b>In a Jupyter environment, please rerun this cell to show the HTML representation or trust the notebook. <br />On GitHub, the HTML representation is unable to render, please try loading this page with nbviewer.org.</b></div><div class=\"sk-container\" hidden><div class=\"sk-item\"><div class=\"sk-estimator sk-toggleable\"><input class=\"sk-toggleable__control sk-hidden--visually\" id=\"sk-estimator-id-4\" type=\"checkbox\" checked><label for=\"sk-estimator-id-4\" class=\"sk-toggleable__label sk-toggleable__label-arrow\">LGBMRegressor</label><div class=\"sk-toggleable__content\"><pre>LGBMRegressor(learning_rate=0.3, num_leaves=200, random_state=12345)</pre></div></div></div></div></div>"
      ],
      "text/plain": [
       "LGBMRegressor(learning_rate=0.3, num_leaves=200, random_state=12345)"
      ]
     },
     "execution_count": 64,
     "metadata": {},
     "output_type": "execute_result"
    }
   ],
   "source": [
    "%%time\n",
    "\n",
    "model = LGBMRegressor(learning_rate = 0.3, \n",
    "                      num_leaves = 200, \n",
    "                      random_state = 12345)\n",
    "model.fit(ordinal_features_train, target_train)"
   ]
  },
  {
   "cell_type": "code",
   "execution_count": 65,
   "metadata": {},
   "outputs": [
    {
     "name": "stdout",
     "output_type": "stream",
     "text": [
      "CPU times: total: 734 ms\n",
      "Wall time: 68 ms\n"
     ]
    }
   ],
   "source": [
    "%%time\n",
    "\n",
    "target_predict = model.predict(ordinal_features_test)"
   ]
  },
  {
   "cell_type": "code",
   "execution_count": 66,
   "metadata": {},
   "outputs": [],
   "source": [
    "final_RMSE_LGBMR = mean_squared_error(target_test, target_predict) ** 0.5"
   ]
  },
  {
   "cell_type": "markdown",
   "metadata": {},
   "source": [
    "#### Сравнение моделей"
   ]
  },
  {
   "cell_type": "code",
   "execution_count": 67,
   "metadata": {},
   "outputs": [],
   "source": [
    "index = ['LinearRegression',\n",
    "         'DecisionTreeRegressor (OHE)',\n",
    "         'DecisionTreeRegressor (OE)',\n",
    "         'CatBoostRegressor (OE)',\n",
    "         'CatBoostRegressor (без кодирования)',\n",
    "         'LGBMRegressor']\n",
    "data = {'RMSE на CV, евро':[cv_RMSE_LR,\n",
    "                            cv_RMSE_DTR_ohe,\n",
    "                            cv_RMSE_DTR_ordinal,\n",
    "                            cv_RMSE_CBR_ordinal,\n",
    "                            cv_RMSE_CBR_original,\n",
    "                            cv_RMSE_LGBMR],\n",
    "        'Время обучения на CV, сек':[69,\n",
    "                                     274,\n",
    "                                     26,\n",
    "                                     726,\n",
    "                                     280,\n",
    "                                     181],\n",
    "        'RMSE модели на тестовой выборке, евро':[final_RMSE_LR,\n",
    "                                                final_RMSE_DTR_ohe,\n",
    "                                                final_RMSE_DTR_ordinal,\n",
    "                                                final_RMSE_CBR_ordinal,\n",
    "                                                final_RMSE_CBR_original,\n",
    "                                                final_RMSE_LGBMR],\n",
    "        'Время обучения модели, сек':[16.8,\n",
    "                                      5.14,\n",
    "                                      0.406,\n",
    "                                      96,\n",
    "                                      65,\n",
    "                                      9.98],\n",
    "        'Время предсказания модели, сек':[0.125,\n",
    "                                          0.079,\n",
    "                                          0.012,\n",
    "                                          0.101,\n",
    "                                          0.255,\n",
    "                                          0.514]}\n",
    "\n",
    "scores_data = pd.DataFrame(data=data, index=index)\n",
    "scores_data['Рейтинг RMSE'] = (scores_data['RMSE на CV, евро'].min() /\n",
    "                              scores_data['RMSE на CV, евро'])\n",
    "scores_data['Рейтинг времени обучения'] = (scores_data['Время обучения модели, сек'].min() / \n",
    "                              scores_data['Время обучения модели, сек'])\n",
    "scores_data['Рейтинг времени предсказания'] = (scores_data['Время предсказания модели, сек'].min() / \n",
    "                              scores_data['Время предсказания модели, сек'])\n",
    "scores_data['Итоговый рейтинг'] = (scores_data['Рейтинг RMSE'] +\n",
    "                                   scores_data['Рейтинг времени обучения'] +\n",
    "                                   scores_data['Рейтинг времени предсказания'])"
   ]
  },
  {
   "cell_type": "code",
   "execution_count": 68,
   "metadata": {},
   "outputs": [
    {
     "data": {
      "text/html": [
       "<div>\n",
       "<style scoped>\n",
       "    .dataframe tbody tr th:only-of-type {\n",
       "        vertical-align: middle;\n",
       "    }\n",
       "\n",
       "    .dataframe tbody tr th {\n",
       "        vertical-align: top;\n",
       "    }\n",
       "\n",
       "    .dataframe thead th {\n",
       "        text-align: right;\n",
       "    }\n",
       "</style>\n",
       "<table border=\"1\" class=\"dataframe\">\n",
       "  <thead>\n",
       "    <tr style=\"text-align: right;\">\n",
       "      <th></th>\n",
       "      <th>RMSE на CV, евро</th>\n",
       "      <th>Время обучения на CV, сек</th>\n",
       "      <th>RMSE модели на тестовой выборке, евро</th>\n",
       "      <th>Время обучения модели, сек</th>\n",
       "      <th>Время предсказания модели, сек</th>\n",
       "      <th>Рейтинг RMSE</th>\n",
       "      <th>Рейтинг времени обучения</th>\n",
       "      <th>Рейтинг времени предсказания</th>\n",
       "      <th>Итоговый рейтинг</th>\n",
       "    </tr>\n",
       "  </thead>\n",
       "  <tbody>\n",
       "    <tr>\n",
       "      <th>LinearRegression</th>\n",
       "      <td>1771.181806</td>\n",
       "      <td>69</td>\n",
       "      <td>1768.054581</td>\n",
       "      <td>16.800</td>\n",
       "      <td>0.125</td>\n",
       "      <td>0.646041</td>\n",
       "      <td>0.024167</td>\n",
       "      <td>0.096000</td>\n",
       "      <td>0.766207</td>\n",
       "    </tr>\n",
       "    <tr>\n",
       "      <th>DecisionTreeRegressor (OHE)</th>\n",
       "      <td>1326.526527</td>\n",
       "      <td>274</td>\n",
       "      <td>1307.006484</td>\n",
       "      <td>5.140</td>\n",
       "      <td>0.079</td>\n",
       "      <td>0.862595</td>\n",
       "      <td>0.078988</td>\n",
       "      <td>0.151899</td>\n",
       "      <td>1.093482</td>\n",
       "    </tr>\n",
       "    <tr>\n",
       "      <th>DecisionTreeRegressor (OE)</th>\n",
       "      <td>1330.671530</td>\n",
       "      <td>26</td>\n",
       "      <td>1320.741057</td>\n",
       "      <td>0.406</td>\n",
       "      <td>0.012</td>\n",
       "      <td>0.859908</td>\n",
       "      <td>1.000000</td>\n",
       "      <td>1.000000</td>\n",
       "      <td>2.859908</td>\n",
       "    </tr>\n",
       "    <tr>\n",
       "      <th>CatBoostRegressor (OE)</th>\n",
       "      <td>1150.740207</td>\n",
       "      <td>726</td>\n",
       "      <td>1137.748898</td>\n",
       "      <td>96.000</td>\n",
       "      <td>0.101</td>\n",
       "      <td>0.994365</td>\n",
       "      <td>0.004229</td>\n",
       "      <td>0.118812</td>\n",
       "      <td>1.117406</td>\n",
       "    </tr>\n",
       "    <tr>\n",
       "      <th>CatBoostRegressor (без кодирования)</th>\n",
       "      <td>1177.435258</td>\n",
       "      <td>280</td>\n",
       "      <td>1167.265701</td>\n",
       "      <td>65.000</td>\n",
       "      <td>0.255</td>\n",
       "      <td>0.971820</td>\n",
       "      <td>0.006246</td>\n",
       "      <td>0.047059</td>\n",
       "      <td>1.025125</td>\n",
       "    </tr>\n",
       "    <tr>\n",
       "      <th>LGBMRegressor</th>\n",
       "      <td>1144.255406</td>\n",
       "      <td>181</td>\n",
       "      <td>1129.982872</td>\n",
       "      <td>9.980</td>\n",
       "      <td>0.514</td>\n",
       "      <td>1.000000</td>\n",
       "      <td>0.040681</td>\n",
       "      <td>0.023346</td>\n",
       "      <td>1.064028</td>\n",
       "    </tr>\n",
       "  </tbody>\n",
       "</table>\n",
       "</div>"
      ],
      "text/plain": [
       "                                     RMSE на CV, евро  \\\n",
       "LinearRegression                          1771.181806   \n",
       "DecisionTreeRegressor (OHE)               1326.526527   \n",
       "DecisionTreeRegressor (OE)                1330.671530   \n",
       "CatBoostRegressor (OE)                    1150.740207   \n",
       "CatBoostRegressor (без кодирования)       1177.435258   \n",
       "LGBMRegressor                             1144.255406   \n",
       "\n",
       "                                     Время обучения на CV, сек  \\\n",
       "LinearRegression                                            69   \n",
       "DecisionTreeRegressor (OHE)                                274   \n",
       "DecisionTreeRegressor (OE)                                  26   \n",
       "CatBoostRegressor (OE)                                     726   \n",
       "CatBoostRegressor (без кодирования)                        280   \n",
       "LGBMRegressor                                              181   \n",
       "\n",
       "                                     RMSE модели на тестовой выборке, евро  \\\n",
       "LinearRegression                                               1768.054581   \n",
       "DecisionTreeRegressor (OHE)                                    1307.006484   \n",
       "DecisionTreeRegressor (OE)                                     1320.741057   \n",
       "CatBoostRegressor (OE)                                         1137.748898   \n",
       "CatBoostRegressor (без кодирования)                            1167.265701   \n",
       "LGBMRegressor                                                  1129.982872   \n",
       "\n",
       "                                     Время обучения модели, сек  \\\n",
       "LinearRegression                                         16.800   \n",
       "DecisionTreeRegressor (OHE)                               5.140   \n",
       "DecisionTreeRegressor (OE)                                0.406   \n",
       "CatBoostRegressor (OE)                                   96.000   \n",
       "CatBoostRegressor (без кодирования)                      65.000   \n",
       "LGBMRegressor                                             9.980   \n",
       "\n",
       "                                     Время предсказания модели, сек  \\\n",
       "LinearRegression                                              0.125   \n",
       "DecisionTreeRegressor (OHE)                                   0.079   \n",
       "DecisionTreeRegressor (OE)                                    0.012   \n",
       "CatBoostRegressor (OE)                                        0.101   \n",
       "CatBoostRegressor (без кодирования)                           0.255   \n",
       "LGBMRegressor                                                 0.514   \n",
       "\n",
       "                                     Рейтинг RMSE  Рейтинг времени обучения  \\\n",
       "LinearRegression                         0.646041                  0.024167   \n",
       "DecisionTreeRegressor (OHE)              0.862595                  0.078988   \n",
       "DecisionTreeRegressor (OE)               0.859908                  1.000000   \n",
       "CatBoostRegressor (OE)                   0.994365                  0.004229   \n",
       "CatBoostRegressor (без кодирования)      0.971820                  0.006246   \n",
       "LGBMRegressor                            1.000000                  0.040681   \n",
       "\n",
       "                                     Рейтинг времени предсказания  \\\n",
       "LinearRegression                                         0.096000   \n",
       "DecisionTreeRegressor (OHE)                              0.151899   \n",
       "DecisionTreeRegressor (OE)                               1.000000   \n",
       "CatBoostRegressor (OE)                                   0.118812   \n",
       "CatBoostRegressor (без кодирования)                      0.047059   \n",
       "LGBMRegressor                                            0.023346   \n",
       "\n",
       "                                     Итоговый рейтинг  \n",
       "LinearRegression                             0.766207  \n",
       "DecisionTreeRegressor (OHE)                  1.093482  \n",
       "DecisionTreeRegressor (OE)                   2.859908  \n",
       "CatBoostRegressor (OE)                       1.117406  \n",
       "CatBoostRegressor (без кодирования)          1.025125  \n",
       "LGBMRegressor                                1.064028  "
      ]
     },
     "execution_count": 68,
     "metadata": {},
     "output_type": "execute_result"
    }
   ],
   "source": [
    "scores_data"
   ]
  },
  {
   "cell_type": "markdown",
   "metadata": {},
   "source": [
    "#### Вывод:"
   ]
  },
  {
   "cell_type": "markdown",
   "metadata": {},
   "source": [
    "Проанализированы время обучения и предсказания моделей, так же получены значения RMSE на тестовых выборках."
   ]
  },
  {
   "cell_type": "markdown",
   "metadata": {},
   "source": [
    "### Итоговый вывод:"
   ]
  },
  {
   "cell_type": "markdown",
   "metadata": {},
   "source": [
    "В ходе работы было выполнено:\n",
    "\n",
    "- загружены данные и проведена предобработка;\n",
    "- выполнено сравнение моделей с использованием различных наборов гиперпараметров;\n",
    "- выбрана лучшая модель по результатам метрики RMSE и времени обучения.\n",
    "\n",
    "Для общей оценки по трем параметрам был создан относительный рейтинг. 1 получает регрессор с самым минимальным временем или RMSE. Остальные получают рейтинг как отношение лучшего в столбце к своему значению.\n",
    "\n",
    "На выбор модели не влияло время обучения на кросвалидации, так как на одном типе данных ее проводят один раз. В то время переобучить модель на новых данных приходится намного чаще.\n",
    "\n",
    "- Лучшей моделью по трем параметрам качество, скорость обучения и скорость предсказания можно считать **DecisionTreeRegressor**. Сочетания скорости и точности на подготовленных данных выводит его в лидеры рейтинга. Все остальные показали себя в целом хуже.\n",
    "\n",
    "- Если рассматривать только оценивание точности, то в лидеры выходит **LGBMRegressor**. Следом за ним идет **CatBoostRegressor** и **DecisionTreeRegressor** занимает третье место.\n",
    "\n",
    "- **LinearRegression** показала себя на этой задаче очень слабо.\n",
    "\n",
    "Исходя из полученного рейтинга можно выделить специфику задач для регрессоров:\n",
    "\n",
    "- **Для быстрых решений с хорошей точностью подойдет DecisionTreeRegressor с подготовленными признаками.**\n",
    "- **Если в деле важна точность и есть время регрессор LGBMRegressor поможет предсказать лучше всех.**\n",
    "- **Для задач, не требующих сильной предобработки и заготовки данных CatBoostRegressor может показать себя очень хорошо.**"
   ]
  }
 ],
 "metadata": {
  "ExecuteTimeLog": [
   {
    "duration": 765,
    "start_time": "2021-11-08T16:29:51.974Z"
   },
   {
    "duration": 1193,
    "start_time": "2021-11-08T16:30:14.917Z"
   },
   {
    "duration": 364,
    "start_time": "2021-11-08T16:30:35.279Z"
   },
   {
    "duration": 32,
    "start_time": "2021-11-08T16:30:43.343Z"
   },
   {
    "duration": 46,
    "start_time": "2021-11-08T16:35:30.448Z"
   },
   {
    "duration": 23,
    "start_time": "2021-11-08T16:36:59.332Z"
   },
   {
    "duration": 222,
    "start_time": "2021-11-08T16:37:16.861Z"
   },
   {
    "duration": 21,
    "start_time": "2021-11-08T16:37:37.230Z"
   },
   {
    "duration": 189,
    "start_time": "2021-11-08T16:37:38.942Z"
   },
   {
    "duration": 789,
    "start_time": "2021-11-13T08:34:10.350Z"
   },
   {
    "duration": 1109,
    "start_time": "2021-11-13T08:34:11.141Z"
   },
   {
    "duration": 37,
    "start_time": "2021-11-13T08:34:12.253Z"
   },
   {
    "duration": 151,
    "start_time": "2021-11-13T08:37:55.291Z"
   },
   {
    "duration": 383,
    "start_time": "2021-11-13T08:38:54.820Z"
   },
   {
    "duration": 374,
    "start_time": "2021-11-13T08:43:07.002Z"
   },
   {
    "duration": 376,
    "start_time": "2021-11-13T08:43:15.714Z"
   },
   {
    "duration": 371,
    "start_time": "2021-11-13T08:43:19.770Z"
   },
   {
    "duration": 154,
    "start_time": "2021-11-13T08:45:07.240Z"
   },
   {
    "duration": 3,
    "start_time": "2021-11-13T08:45:54.427Z"
   },
   {
    "duration": 1102,
    "start_time": "2021-11-13T08:45:55.036Z"
   },
   {
    "duration": 20,
    "start_time": "2021-11-13T08:45:56.141Z"
   },
   {
    "duration": 154,
    "start_time": "2021-11-13T08:45:57.179Z"
   },
   {
    "duration": 148,
    "start_time": "2021-11-13T08:45:58.307Z"
   },
   {
    "duration": 406,
    "start_time": "2021-11-13T08:45:59.636Z"
   },
   {
    "duration": 1080,
    "start_time": "2021-11-13T08:53:01.306Z"
   },
   {
    "duration": 404,
    "start_time": "2021-11-13T08:53:15.619Z"
   },
   {
    "duration": 4582,
    "start_time": "2021-11-13T08:54:42.112Z"
   },
   {
    "duration": 315,
    "start_time": "2021-11-13T09:22:19.467Z"
   },
   {
    "duration": 346,
    "start_time": "2021-11-13T09:22:38.451Z"
   },
   {
    "duration": 40,
    "start_time": "2021-11-13T09:22:52.532Z"
   },
   {
    "duration": 98,
    "start_time": "2021-11-13T09:22:55.068Z"
   },
   {
    "duration": 2257,
    "start_time": "2021-11-13T09:23:27.934Z"
   },
   {
    "duration": 3,
    "start_time": "2021-11-13T09:24:44.043Z"
   },
   {
    "duration": 1104,
    "start_time": "2021-11-13T09:24:46.755Z"
   },
   {
    "duration": 26,
    "start_time": "2021-11-13T09:24:47.862Z"
   },
   {
    "duration": 151,
    "start_time": "2021-11-13T09:26:57.498Z"
   },
   {
    "duration": 4700,
    "start_time": "2021-11-13T09:26:59.466Z"
   },
   {
    "duration": 3,
    "start_time": "2021-11-13T09:27:25.492Z"
   },
   {
    "duration": 1091,
    "start_time": "2021-11-13T09:27:26.651Z"
   },
   {
    "duration": 20,
    "start_time": "2021-11-13T09:27:27.745Z"
   },
   {
    "duration": 153,
    "start_time": "2021-11-13T09:27:29.012Z"
   },
   {
    "duration": 28,
    "start_time": "2021-11-13T09:27:32.924Z"
   },
   {
    "duration": 97,
    "start_time": "2021-11-13T09:27:35.340Z"
   },
   {
    "duration": 2291,
    "start_time": "2021-11-13T09:27:37.557Z"
   },
   {
    "duration": 14,
    "start_time": "2021-11-13T09:36:09.935Z"
   },
   {
    "duration": 920,
    "start_time": "2021-11-13T09:39:54.229Z"
   },
   {
    "duration": 17,
    "start_time": "2021-11-13T09:41:41.346Z"
   },
   {
    "duration": 16,
    "start_time": "2021-11-13T09:41:49.419Z"
   },
   {
    "duration": 648,
    "start_time": "2021-11-13T09:43:24.248Z"
   },
   {
    "duration": 7812,
    "start_time": "2021-11-13T09:44:12.714Z"
   },
   {
    "duration": 718,
    "start_time": "2021-11-13T09:44:51.525Z"
   },
   {
    "duration": 298,
    "start_time": "2021-11-13T09:45:09.622Z"
   },
   {
    "duration": 1590,
    "start_time": "2021-11-13T09:46:09.095Z"
   },
   {
    "duration": 1236,
    "start_time": "2021-11-13T09:46:10.688Z"
   },
   {
    "duration": 25,
    "start_time": "2021-11-13T09:46:11.926Z"
   },
   {
    "duration": 172,
    "start_time": "2021-11-13T09:46:11.954Z"
   },
   {
    "duration": 36,
    "start_time": "2021-11-13T09:46:12.128Z"
   },
   {
    "duration": 110,
    "start_time": "2021-11-13T09:46:12.182Z"
   },
   {
    "duration": 2332,
    "start_time": "2021-11-13T09:46:12.294Z"
   },
   {
    "duration": 14,
    "start_time": "2021-11-13T09:46:14.628Z"
   },
   {
    "duration": 346,
    "start_time": "2021-11-13T09:46:14.645Z"
   },
   {
    "duration": 799,
    "start_time": "2021-11-13T09:46:14.994Z"
   },
   {
    "duration": 17,
    "start_time": "2021-11-13T09:46:15.796Z"
   },
   {
    "duration": 16,
    "start_time": "2021-11-13T09:49:09.528Z"
   },
   {
    "duration": 16,
    "start_time": "2021-11-13T09:49:35.322Z"
   },
   {
    "duration": 554,
    "start_time": "2021-11-13T09:50:13.484Z"
   },
   {
    "duration": 620,
    "start_time": "2021-11-13T09:50:21.540Z"
   },
   {
    "duration": 721,
    "start_time": "2021-11-13T09:50:28.508Z"
   },
   {
    "duration": 752,
    "start_time": "2021-11-13T09:50:34.005Z"
   },
   {
    "duration": 458,
    "start_time": "2021-11-13T09:51:30.617Z"
   },
   {
    "duration": 307,
    "start_time": "2021-11-13T09:51:41.584Z"
   },
   {
    "duration": 27,
    "start_time": "2021-11-13T09:52:33.780Z"
   },
   {
    "duration": 23,
    "start_time": "2021-11-13T09:53:04.501Z"
   },
   {
    "duration": 108,
    "start_time": "2021-11-13T09:53:11.429Z"
   },
   {
    "duration": 25,
    "start_time": "2021-11-13T09:53:18.662Z"
   },
   {
    "duration": 16,
    "start_time": "2021-11-13T09:53:41.271Z"
   },
   {
    "duration": 545,
    "start_time": "2021-11-13T10:03:34.057Z"
   },
   {
    "duration": 548,
    "start_time": "2021-11-13T10:03:43.168Z"
   },
   {
    "duration": 541,
    "start_time": "2021-11-13T10:03:48.064Z"
   },
   {
    "duration": 634,
    "start_time": "2021-11-13T10:03:53.529Z"
   },
   {
    "duration": 764,
    "start_time": "2021-11-13T10:06:52.971Z"
   },
   {
    "duration": 16,
    "start_time": "2021-11-13T10:07:33.964Z"
   },
   {
    "duration": 15,
    "start_time": "2021-11-13T10:08:06.055Z"
   },
   {
    "duration": 16,
    "start_time": "2021-11-13T10:08:14.672Z"
   },
   {
    "duration": 17,
    "start_time": "2021-11-13T10:08:20.567Z"
   },
   {
    "duration": 22,
    "start_time": "2021-11-13T10:10:22.727Z"
   },
   {
    "duration": 18,
    "start_time": "2021-11-13T10:10:36.255Z"
   },
   {
    "duration": 16,
    "start_time": "2021-11-13T10:10:53.336Z"
   },
   {
    "duration": 45,
    "start_time": "2021-11-13T10:12:09.284Z"
   },
   {
    "duration": 43,
    "start_time": "2021-11-13T10:13:13.439Z"
   },
   {
    "duration": 326,
    "start_time": "2021-11-13T10:18:16.280Z"
   },
   {
    "duration": 316,
    "start_time": "2021-11-13T10:19:38.237Z"
   },
   {
    "duration": 29,
    "start_time": "2021-11-13T10:19:44.477Z"
   },
   {
    "duration": 20,
    "start_time": "2021-11-13T10:20:43.632Z"
   },
   {
    "duration": 19,
    "start_time": "2021-11-13T10:20:50.552Z"
   },
   {
    "duration": 48,
    "start_time": "2021-11-13T10:22:17.333Z"
   },
   {
    "duration": 19,
    "start_time": "2021-11-13T10:24:27.780Z"
   },
   {
    "duration": 47,
    "start_time": "2021-11-13T10:24:30.067Z"
   },
   {
    "duration": 374,
    "start_time": "2021-11-13T10:26:02.250Z"
   },
   {
    "duration": 344,
    "start_time": "2021-11-13T10:26:10.362Z"
   },
   {
    "duration": 50,
    "start_time": "2021-11-13T10:26:34.603Z"
   },
   {
    "duration": 45,
    "start_time": "2021-11-13T10:34:41.718Z"
   },
   {
    "duration": 65,
    "start_time": "2021-11-13T10:35:18.840Z"
   },
   {
    "duration": 17,
    "start_time": "2021-11-13T10:36:34.900Z"
   },
   {
    "duration": 573,
    "start_time": "2021-11-13T10:38:17.162Z"
   },
   {
    "duration": 553,
    "start_time": "2021-11-13T10:40:21.202Z"
   },
   {
    "duration": 18,
    "start_time": "2021-11-13T10:40:25.761Z"
   },
   {
    "duration": 17,
    "start_time": "2021-11-13T10:43:37.795Z"
   },
   {
    "duration": 565,
    "start_time": "2021-11-13T10:44:48.009Z"
   },
   {
    "duration": 1448,
    "start_time": "2021-11-13T10:48:35.923Z"
   },
   {
    "duration": 1078,
    "start_time": "2021-11-13T10:48:37.374Z"
   },
   {
    "duration": 35,
    "start_time": "2021-11-13T10:48:38.455Z"
   },
   {
    "duration": 164,
    "start_time": "2021-11-13T10:48:38.492Z"
   },
   {
    "duration": 43,
    "start_time": "2021-11-13T10:48:38.659Z"
   },
   {
    "duration": 111,
    "start_time": "2021-11-13T10:48:38.705Z"
   },
   {
    "duration": 2518,
    "start_time": "2021-11-13T10:48:38.818Z"
   },
   {
    "duration": 14,
    "start_time": "2021-11-13T10:48:41.340Z"
   },
   {
    "duration": 333,
    "start_time": "2021-11-13T10:48:41.357Z"
   },
   {
    "duration": 773,
    "start_time": "2021-11-13T10:48:41.693Z"
   },
   {
    "duration": 21,
    "start_time": "2021-11-13T10:48:42.469Z"
   },
   {
    "duration": 52,
    "start_time": "2021-11-13T10:48:42.492Z"
   },
   {
    "duration": 89,
    "start_time": "2021-11-13T10:48:42.546Z"
   },
   {
    "duration": 17,
    "start_time": "2021-11-13T10:48:42.637Z"
   },
   {
    "duration": 5,
    "start_time": "2021-11-13T10:48:42.656Z"
   },
   {
    "duration": 570,
    "start_time": "2021-11-13T10:48:42.682Z"
   },
   {
    "duration": 17,
    "start_time": "2021-11-13T10:48:43.254Z"
   },
   {
    "duration": 572,
    "start_time": "2021-11-13T10:48:43.281Z"
   },
   {
    "duration": 102,
    "start_time": "2021-11-13T10:48:43.855Z"
   },
   {
    "duration": 18,
    "start_time": "2021-11-13T10:49:27.922Z"
   },
   {
    "duration": 582,
    "start_time": "2021-11-13T10:52:14.627Z"
   },
   {
    "duration": 18,
    "start_time": "2021-11-13T11:01:23.107Z"
   },
   {
    "duration": 2122,
    "start_time": "2021-11-13T11:05:22.853Z"
   },
   {
    "duration": 1198,
    "start_time": "2021-11-13T11:05:24.978Z"
   },
   {
    "duration": 23,
    "start_time": "2021-11-13T11:05:26.179Z"
   },
   {
    "duration": 166,
    "start_time": "2021-11-13T11:05:26.205Z"
   },
   {
    "duration": 38,
    "start_time": "2021-11-13T11:05:26.373Z"
   },
   {
    "duration": 34,
    "start_time": "2021-11-13T11:05:26.413Z"
   },
   {
    "duration": 125,
    "start_time": "2021-11-13T11:05:26.449Z"
   },
   {
    "duration": 2264,
    "start_time": "2021-11-13T11:05:26.577Z"
   },
   {
    "duration": 13,
    "start_time": "2021-11-13T11:05:28.844Z"
   },
   {
    "duration": 332,
    "start_time": "2021-11-13T11:05:28.860Z"
   },
   {
    "duration": 789,
    "start_time": "2021-11-13T11:05:29.195Z"
   },
   {
    "duration": 18,
    "start_time": "2021-11-13T11:05:29.987Z"
   },
   {
    "duration": 76,
    "start_time": "2021-11-13T11:05:30.008Z"
   },
   {
    "duration": 69,
    "start_time": "2021-11-13T11:05:30.086Z"
   },
   {
    "duration": 34,
    "start_time": "2021-11-13T11:05:30.158Z"
   },
   {
    "duration": 19,
    "start_time": "2021-11-13T11:05:30.194Z"
   },
   {
    "duration": 588,
    "start_time": "2021-11-13T11:05:30.216Z"
   },
   {
    "duration": 19,
    "start_time": "2021-11-13T11:05:30.806Z"
   },
   {
    "duration": 594,
    "start_time": "2021-11-13T11:05:30.827Z"
   },
   {
    "duration": 17,
    "start_time": "2021-11-13T11:05:31.423Z"
   },
   {
    "duration": 590,
    "start_time": "2021-11-13T11:05:31.442Z"
   },
   {
    "duration": 18,
    "start_time": "2021-11-13T11:05:32.034Z"
   },
   {
    "duration": 104,
    "start_time": "2021-11-13T11:05:32.056Z"
   },
   {
    "duration": 8561,
    "start_time": "2021-11-13T11:07:21.338Z"
   },
   {
    "duration": 3,
    "start_time": "2021-11-13T11:07:38.124Z"
   },
   {
    "duration": 1098,
    "start_time": "2021-11-13T11:07:39.117Z"
   },
   {
    "duration": 20,
    "start_time": "2021-11-13T11:07:40.217Z"
   },
   {
    "duration": 149,
    "start_time": "2021-11-13T11:07:41.077Z"
   },
   {
    "duration": 49,
    "start_time": "2021-11-13T11:07:47.413Z"
   },
   {
    "duration": 761,
    "start_time": "2021-11-13T11:15:18.196Z"
   },
   {
    "duration": 108,
    "start_time": "2021-11-13T11:18:38.335Z"
   },
   {
    "duration": 21,
    "start_time": "2021-11-13T11:23:54.592Z"
   },
   {
    "duration": 760,
    "start_time": "2021-11-13T11:24:24.946Z"
   },
   {
    "duration": 799,
    "start_time": "2021-11-13T11:25:49.079Z"
   },
   {
    "duration": 965,
    "start_time": "2021-11-13T11:29:09.826Z"
   },
   {
    "duration": 702,
    "start_time": "2021-11-13T11:29:33.380Z"
   },
   {
    "duration": 738,
    "start_time": "2021-11-13T11:29:36.531Z"
   },
   {
    "duration": 827,
    "start_time": "2021-11-13T11:32:01.069Z"
   },
   {
    "duration": 791,
    "start_time": "2021-11-13T11:36:59.707Z"
   },
   {
    "duration": 752,
    "start_time": "2021-11-13T11:37:20.924Z"
   },
   {
    "duration": 682,
    "start_time": "2021-11-13T11:37:52.189Z"
   },
   {
    "duration": 87,
    "start_time": "2021-11-13T11:40:09.358Z"
   },
   {
    "duration": 3932,
    "start_time": "2021-11-13T11:44:49.493Z"
   },
   {
    "duration": 1502,
    "start_time": "2021-11-13T11:45:31.550Z"
   },
   {
    "duration": 1257,
    "start_time": "2021-11-13T11:45:33.055Z"
   },
   {
    "duration": 24,
    "start_time": "2021-11-13T11:45:34.319Z"
   },
   {
    "duration": 180,
    "start_time": "2021-11-13T11:45:34.345Z"
   },
   {
    "duration": 60,
    "start_time": "2021-11-13T11:45:34.527Z"
   },
   {
    "duration": 37,
    "start_time": "2021-11-13T11:45:34.590Z"
   },
   {
    "duration": 117,
    "start_time": "2021-11-13T11:45:34.631Z"
   },
   {
    "duration": 2500,
    "start_time": "2021-11-13T11:45:34.751Z"
   },
   {
    "duration": 29,
    "start_time": "2021-11-13T11:45:37.253Z"
   },
   {
    "duration": 326,
    "start_time": "2021-11-13T11:45:37.284Z"
   },
   {
    "duration": 833,
    "start_time": "2021-11-13T11:45:37.613Z"
   },
   {
    "duration": 16,
    "start_time": "2021-11-13T11:45:38.448Z"
   },
   {
    "duration": 66,
    "start_time": "2021-11-13T11:45:38.467Z"
   },
   {
    "duration": 84,
    "start_time": "2021-11-13T11:45:38.536Z"
   },
   {
    "duration": 17,
    "start_time": "2021-11-13T11:45:38.622Z"
   },
   {
    "duration": 9,
    "start_time": "2021-11-13T11:45:38.642Z"
   },
   {
    "duration": 682,
    "start_time": "2021-11-13T11:45:38.653Z"
   },
   {
    "duration": 17,
    "start_time": "2021-11-13T11:45:39.337Z"
   },
   {
    "duration": 567,
    "start_time": "2021-11-13T11:45:39.356Z"
   },
   {
    "duration": 17,
    "start_time": "2021-11-13T11:45:39.926Z"
   },
   {
    "duration": 586,
    "start_time": "2021-11-13T11:45:39.946Z"
   },
   {
    "duration": 18,
    "start_time": "2021-11-13T11:45:40.536Z"
   },
   {
    "duration": 731,
    "start_time": "2021-11-13T11:45:40.557Z"
   },
   {
    "duration": 58,
    "start_time": "2021-11-13T11:45:41.290Z"
   },
   {
    "duration": 40,
    "start_time": "2021-11-13T11:45:41.350Z"
   },
   {
    "duration": 769,
    "start_time": "2021-11-13T11:45:41.392Z"
   },
   {
    "duration": 675,
    "start_time": "2021-11-13T11:45:42.164Z"
   },
   {
    "duration": 742,
    "start_time": "2021-11-13T11:45:42.842Z"
   },
   {
    "duration": 686,
    "start_time": "2021-11-13T11:45:43.587Z"
   },
   {
    "duration": 777,
    "start_time": "2021-11-13T11:45:44.276Z"
   },
   {
    "duration": 54,
    "start_time": "2021-11-13T11:45:45.056Z"
   },
   {
    "duration": 1586,
    "start_time": "2021-11-13T11:45:45.113Z"
   },
   {
    "duration": 592,
    "start_time": "2021-11-13T11:45:46.701Z"
   },
   {
    "duration": 21,
    "start_time": "2021-11-13T11:51:47.758Z"
   },
   {
    "duration": 18,
    "start_time": "2021-11-13T11:52:08.119Z"
   },
   {
    "duration": 69,
    "start_time": "2021-11-13T11:53:20.883Z"
   },
   {
    "duration": 76,
    "start_time": "2021-11-13T11:57:16.527Z"
   },
   {
    "duration": 78,
    "start_time": "2021-11-13T11:58:38.124Z"
   },
   {
    "duration": 1475,
    "start_time": "2021-11-13T12:04:42.583Z"
   },
   {
    "duration": 1121,
    "start_time": "2021-11-13T12:04:44.061Z"
   },
   {
    "duration": 23,
    "start_time": "2021-11-13T12:04:45.185Z"
   },
   {
    "duration": 179,
    "start_time": "2021-11-13T12:04:45.211Z"
   },
   {
    "duration": 46,
    "start_time": "2021-11-13T12:04:45.392Z"
   },
   {
    "duration": 54,
    "start_time": "2021-11-13T12:04:45.440Z"
   },
   {
    "duration": 125,
    "start_time": "2021-11-13T12:04:45.497Z"
   },
   {
    "duration": 2375,
    "start_time": "2021-11-13T12:04:45.626Z"
   },
   {
    "duration": 15,
    "start_time": "2021-11-13T12:04:48.004Z"
   },
   {
    "duration": 338,
    "start_time": "2021-11-13T12:04:48.021Z"
   },
   {
    "duration": 786,
    "start_time": "2021-11-13T12:04:48.361Z"
   },
   {
    "duration": 17,
    "start_time": "2021-11-13T12:04:49.149Z"
   },
   {
    "duration": 55,
    "start_time": "2021-11-13T12:04:49.186Z"
   },
   {
    "duration": 82,
    "start_time": "2021-11-13T12:04:49.243Z"
   },
   {
    "duration": 18,
    "start_time": "2021-11-13T12:04:49.327Z"
   },
   {
    "duration": 5,
    "start_time": "2021-11-13T12:04:49.347Z"
   },
   {
    "duration": 590,
    "start_time": "2021-11-13T12:04:49.354Z"
   },
   {
    "duration": 16,
    "start_time": "2021-11-13T12:04:49.947Z"
   },
   {
    "duration": 561,
    "start_time": "2021-11-13T12:04:49.981Z"
   },
   {
    "duration": 18,
    "start_time": "2021-11-13T12:04:50.544Z"
   },
   {
    "duration": 579,
    "start_time": "2021-11-13T12:04:50.564Z"
   },
   {
    "duration": 18,
    "start_time": "2021-11-13T12:04:51.145Z"
   },
   {
    "duration": 746,
    "start_time": "2021-11-13T12:04:51.167Z"
   },
   {
    "duration": 70,
    "start_time": "2021-11-13T12:04:51.915Z"
   },
   {
    "duration": 20,
    "start_time": "2021-11-13T12:04:51.987Z"
   },
   {
    "duration": 774,
    "start_time": "2021-11-13T12:04:52.010Z"
   },
   {
    "duration": 684,
    "start_time": "2021-11-13T12:04:52.787Z"
   },
   {
    "duration": 749,
    "start_time": "2021-11-13T12:04:53.474Z"
   },
   {
    "duration": 703,
    "start_time": "2021-11-13T12:04:54.226Z"
   },
   {
    "duration": 783,
    "start_time": "2021-11-13T12:04:54.931Z"
   },
   {
    "duration": 38,
    "start_time": "2021-11-13T12:04:55.717Z"
   },
   {
    "duration": 39,
    "start_time": "2021-11-13T12:04:55.757Z"
   },
   {
    "duration": 18,
    "start_time": "2021-11-13T12:04:55.798Z"
   },
   {
    "duration": 96,
    "start_time": "2021-11-13T12:04:55.818Z"
   },
   {
    "duration": 90,
    "start_time": "2021-11-13T12:04:55.916Z"
   },
   {
    "duration": 22,
    "start_time": "2021-11-13T12:04:56.009Z"
   },
   {
    "duration": 68,
    "start_time": "2021-11-13T12:04:56.033Z"
   },
   {
    "duration": 1469,
    "start_time": "2021-11-13T12:12:52.591Z"
   },
   {
    "duration": 1120,
    "start_time": "2021-11-13T12:12:54.063Z"
   },
   {
    "duration": 25,
    "start_time": "2021-11-13T12:12:55.189Z"
   },
   {
    "duration": 181,
    "start_time": "2021-11-13T12:12:55.217Z"
   },
   {
    "duration": 45,
    "start_time": "2021-11-13T12:12:55.401Z"
   },
   {
    "duration": 49,
    "start_time": "2021-11-13T12:12:55.449Z"
   },
   {
    "duration": 118,
    "start_time": "2021-11-13T12:12:55.502Z"
   },
   {
    "duration": 2408,
    "start_time": "2021-11-13T12:12:55.622Z"
   },
   {
    "duration": 14,
    "start_time": "2021-11-13T12:12:58.033Z"
   },
   {
    "duration": 339,
    "start_time": "2021-11-13T12:12:58.050Z"
   },
   {
    "duration": 784,
    "start_time": "2021-11-13T12:12:58.392Z"
   },
   {
    "duration": 17,
    "start_time": "2021-11-13T12:12:59.182Z"
   },
   {
    "duration": 54,
    "start_time": "2021-11-13T12:12:59.201Z"
   },
   {
    "duration": 92,
    "start_time": "2021-11-13T12:12:59.258Z"
   },
   {
    "duration": 30,
    "start_time": "2021-11-13T12:12:59.353Z"
   },
   {
    "duration": 4,
    "start_time": "2021-11-13T12:12:59.386Z"
   },
   {
    "duration": 593,
    "start_time": "2021-11-13T12:12:59.392Z"
   },
   {
    "duration": 19,
    "start_time": "2021-11-13T12:12:59.987Z"
   },
   {
    "duration": 713,
    "start_time": "2021-11-13T12:13:00.008Z"
   },
   {
    "duration": 19,
    "start_time": "2021-11-13T12:13:00.723Z"
   },
   {
    "duration": 607,
    "start_time": "2021-11-13T12:13:00.745Z"
   },
   {
    "duration": 31,
    "start_time": "2021-11-13T12:13:01.357Z"
   },
   {
    "duration": 736,
    "start_time": "2021-11-13T12:13:01.391Z"
   },
   {
    "duration": 70,
    "start_time": "2021-11-13T12:13:02.130Z"
   },
   {
    "duration": 19,
    "start_time": "2021-11-13T12:13:02.202Z"
   },
   {
    "duration": 852,
    "start_time": "2021-11-13T12:13:02.223Z"
   },
   {
    "duration": 692,
    "start_time": "2021-11-13T12:13:03.082Z"
   },
   {
    "duration": 760,
    "start_time": "2021-11-13T12:13:03.776Z"
   },
   {
    "duration": 708,
    "start_time": "2021-11-13T12:13:04.539Z"
   },
   {
    "duration": 705,
    "start_time": "2021-11-13T12:13:05.249Z"
   },
   {
    "duration": 46,
    "start_time": "2021-11-13T12:13:05.957Z"
   },
   {
    "duration": 21,
    "start_time": "2021-11-13T12:13:06.005Z"
   },
   {
    "duration": 16,
    "start_time": "2021-11-13T12:13:06.029Z"
   },
   {
    "duration": 101,
    "start_time": "2021-11-13T12:13:06.048Z"
   },
   {
    "duration": 98,
    "start_time": "2021-11-13T12:13:06.152Z"
   },
   {
    "duration": 42,
    "start_time": "2021-11-13T12:13:06.252Z"
   },
   {
    "duration": 52,
    "start_time": "2021-11-13T12:13:06.296Z"
   },
   {
    "duration": 102,
    "start_time": "2021-11-13T12:13:06.350Z"
   },
   {
    "duration": 52,
    "start_time": "2021-11-13T12:13:57.611Z"
   },
   {
    "duration": 3,
    "start_time": "2021-11-13T12:14:04.403Z"
   },
   {
    "duration": 5,
    "start_time": "2021-11-13T12:14:22.492Z"
   },
   {
    "duration": 16,
    "start_time": "2021-11-13T12:41:16.366Z"
   },
   {
    "duration": 545,
    "start_time": "2021-11-13T12:41:17.199Z"
   },
   {
    "duration": 516,
    "start_time": "2021-11-13T12:44:46.384Z"
   },
   {
    "duration": 214,
    "start_time": "2021-11-13T12:44:58.345Z"
   },
   {
    "duration": 348,
    "start_time": "2021-11-13T12:45:04.801Z"
   },
   {
    "duration": 107,
    "start_time": "2021-11-13T12:48:26.383Z"
   },
   {
    "duration": 1259,
    "start_time": "2021-11-13T12:48:27.630Z"
   },
   {
    "duration": 408,
    "start_time": "2021-11-13T12:48:29.447Z"
   },
   {
    "duration": 80493,
    "start_time": "2021-11-13T12:53:10.492Z"
   },
   {
    "duration": 85593,
    "start_time": "2021-11-13T12:56:25.690Z"
   },
   {
    "duration": 316491,
    "start_time": "2021-11-13T13:10:26.691Z"
   },
   {
    "duration": 311,
    "start_time": "2021-11-13T13:15:43.188Z"
   },
   {
    "duration": 310729,
    "start_time": "2021-11-13T13:22:03.171Z"
   },
   {
    "duration": 6,
    "start_time": "2021-11-13T13:27:13.902Z"
   },
   {
    "duration": 321637,
    "start_time": "2021-11-13T13:30:17.376Z"
   },
   {
    "duration": 5,
    "start_time": "2021-11-13T13:35:53.552Z"
   },
   {
    "duration": 5,
    "start_time": "2021-11-13T13:36:22.450Z"
   },
   {
    "duration": 314975,
    "start_time": "2021-11-13T13:36:51.420Z"
   },
   {
    "duration": 314246,
    "start_time": "2021-11-13T13:46:16.342Z"
   },
   {
    "duration": 20265,
    "start_time": "2021-11-13T14:24:11.802Z"
   },
   {
    "duration": 8841,
    "start_time": "2021-11-13T14:26:24.822Z"
   },
   {
    "duration": 9005,
    "start_time": "2021-11-13T14:26:58.523Z"
   },
   {
    "duration": 8730,
    "start_time": "2021-11-13T14:29:40.460Z"
   },
   {
    "duration": 8785,
    "start_time": "2021-11-13T14:30:02.485Z"
   },
   {
    "duration": 8920,
    "start_time": "2021-11-13T14:30:45.679Z"
   },
   {
    "duration": 4414,
    "start_time": "2021-11-13T14:31:10.288Z"
   },
   {
    "duration": 4709,
    "start_time": "2021-11-13T14:31:28.786Z"
   },
   {
    "duration": 4236,
    "start_time": "2021-11-13T14:31:51.779Z"
   },
   {
    "duration": 4231,
    "start_time": "2021-11-13T14:32:00.251Z"
   },
   {
    "duration": 4206,
    "start_time": "2021-11-13T14:32:38.862Z"
   },
   {
    "duration": 4448,
    "start_time": "2021-11-13T14:32:54.463Z"
   },
   {
    "duration": 4543,
    "start_time": "2021-11-13T14:33:15.247Z"
   },
   {
    "duration": 4201,
    "start_time": "2021-11-13T14:34:06.971Z"
   },
   {
    "duration": 303179,
    "start_time": "2021-11-13T14:34:24.724Z"
   },
   {
    "duration": 304852,
    "start_time": "2021-11-13T15:13:02.188Z"
   },
   {
    "duration": 35613,
    "start_time": "2021-11-13T15:19:53.747Z"
   },
   {
    "duration": 193,
    "start_time": "2021-11-13T15:39:45.555Z"
   },
   {
    "duration": 410450,
    "start_time": "2021-11-13T15:40:02.251Z"
   },
   {
    "duration": 1062969,
    "start_time": "2021-11-13T15:51:57.988Z"
   },
   {
    "duration": 1080010,
    "start_time": "2021-11-13T16:12:58.865Z"
   },
   {
    "duration": 264113,
    "start_time": "2021-11-13T16:30:58.879Z"
   },
   {
    "duration": 377402,
    "start_time": "2021-11-13T16:41:54.890Z"
   },
   {
    "duration": 23,
    "start_time": "2021-11-13T17:15:25.600Z"
   },
   {
    "duration": 3,
    "start_time": "2021-11-13T17:15:38.449Z"
   },
   {
    "duration": 4,
    "start_time": "2021-11-13T17:15:45.136Z"
   },
   {
    "duration": 319,
    "start_time": "2021-11-13T17:16:00.249Z"
   },
   {
    "duration": 5,
    "start_time": "2021-11-13T17:16:13.442Z"
   },
   {
    "duration": 14036,
    "start_time": "2021-11-13T17:16:25.619Z"
   },
   {
    "duration": 7,
    "start_time": "2021-11-13T17:16:39.658Z"
   },
   {
    "duration": 19370,
    "start_time": "2021-11-13T17:20:41.018Z"
   },
   {
    "duration": 163,
    "start_time": "2021-11-13T17:21:44.320Z"
   },
   {
    "duration": 5,
    "start_time": "2021-11-13T17:21:47.272Z"
   },
   {
    "duration": 1313,
    "start_time": "2021-11-13T19:17:20.674Z"
   },
   {
    "duration": 896,
    "start_time": "2021-11-13T19:17:23.769Z"
   },
   {
    "duration": 18,
    "start_time": "2021-11-13T19:17:24.667Z"
   },
   {
    "duration": 122,
    "start_time": "2021-11-13T19:17:25.122Z"
   },
   {
    "duration": 37,
    "start_time": "2021-11-13T19:17:30.635Z"
   },
   {
    "duration": 28,
    "start_time": "2021-11-13T19:17:31.434Z"
   },
   {
    "duration": 81,
    "start_time": "2021-11-13T19:18:08.277Z"
   },
   {
    "duration": 1559,
    "start_time": "2021-11-13T19:18:13.421Z"
   },
   {
    "duration": 10,
    "start_time": "2021-11-13T19:18:20.157Z"
   },
   {
    "duration": 211,
    "start_time": "2021-11-13T19:18:22.677Z"
   },
   {
    "duration": 476,
    "start_time": "2021-11-13T19:18:24.397Z"
   },
   {
    "duration": 14,
    "start_time": "2021-11-13T19:18:27.853Z"
   },
   {
    "duration": 38,
    "start_time": "2021-11-13T19:18:29.181Z"
   },
   {
    "duration": 50,
    "start_time": "2021-11-13T19:18:30.853Z"
   },
   {
    "duration": 14,
    "start_time": "2021-11-13T19:18:32.045Z"
   },
   {
    "duration": 3,
    "start_time": "2021-11-13T19:18:33.477Z"
   },
   {
    "duration": 349,
    "start_time": "2021-11-13T19:18:35.525Z"
   },
   {
    "duration": 13,
    "start_time": "2021-11-13T19:18:39.158Z"
   },
   {
    "duration": 340,
    "start_time": "2021-11-13T19:18:40.150Z"
   },
   {
    "duration": 14,
    "start_time": "2021-11-13T19:18:41.582Z"
   },
   {
    "duration": 341,
    "start_time": "2021-11-13T19:18:42.638Z"
   },
   {
    "duration": 15,
    "start_time": "2021-11-13T19:18:43.981Z"
   },
   {
    "duration": 489,
    "start_time": "2021-11-13T19:18:46.959Z"
   },
   {
    "duration": 37,
    "start_time": "2021-11-13T19:18:50.639Z"
   },
   {
    "duration": 16,
    "start_time": "2021-11-13T19:18:51.726Z"
   },
   {
    "duration": 402,
    "start_time": "2021-11-13T19:18:52.566Z"
   },
   {
    "duration": 374,
    "start_time": "2021-11-13T19:18:56.519Z"
   },
   {
    "duration": 417,
    "start_time": "2021-11-13T19:18:59.078Z"
   },
   {
    "duration": 426,
    "start_time": "2021-11-13T19:19:02.871Z"
   },
   {
    "duration": 473,
    "start_time": "2021-11-13T19:19:04.319Z"
   },
   {
    "duration": 24,
    "start_time": "2021-11-13T19:19:10.760Z"
   },
   {
    "duration": 15,
    "start_time": "2021-11-13T19:19:13.327Z"
   },
   {
    "duration": 12,
    "start_time": "2021-11-13T19:19:14.655Z"
   },
   {
    "duration": 52,
    "start_time": "2021-11-13T19:19:17.544Z"
   },
   {
    "duration": 59,
    "start_time": "2021-11-13T19:19:21.168Z"
   },
   {
    "duration": 15,
    "start_time": "2021-11-13T19:19:22.935Z"
   },
   {
    "duration": 39,
    "start_time": "2021-11-13T19:19:24.288Z"
   },
   {
    "duration": 66,
    "start_time": "2021-11-13T19:19:26.904Z"
   },
   {
    "duration": 52,
    "start_time": "2021-11-13T19:19:42.057Z"
   },
   {
    "duration": 1026,
    "start_time": "2021-11-13T19:19:42.585Z"
   },
   {
    "duration": 264,
    "start_time": "2021-11-13T19:19:43.613Z"
   },
   {
    "duration": 1222,
    "start_time": "2021-11-13T19:21:31.581Z"
   },
   {
    "duration": 854,
    "start_time": "2021-11-13T19:21:32.805Z"
   },
   {
    "duration": 19,
    "start_time": "2021-11-13T19:21:33.661Z"
   },
   {
    "duration": 140,
    "start_time": "2021-11-13T19:21:33.682Z"
   },
   {
    "duration": 42,
    "start_time": "2021-11-13T19:21:33.824Z"
   },
   {
    "duration": 26,
    "start_time": "2021-11-13T19:21:33.868Z"
   },
   {
    "duration": 86,
    "start_time": "2021-11-13T19:21:33.896Z"
   },
   {
    "duration": 1617,
    "start_time": "2021-11-13T19:21:33.985Z"
   },
   {
    "duration": 10,
    "start_time": "2021-11-13T19:21:35.604Z"
   },
   {
    "duration": 231,
    "start_time": "2021-11-13T19:21:35.616Z"
   },
   {
    "duration": 448,
    "start_time": "2021-11-13T19:21:35.848Z"
   },
   {
    "duration": 12,
    "start_time": "2021-11-13T19:21:36.298Z"
   },
   {
    "duration": 51,
    "start_time": "2021-11-13T19:21:36.312Z"
   },
   {
    "duration": 46,
    "start_time": "2021-11-13T19:21:36.365Z"
   },
   {
    "duration": 12,
    "start_time": "2021-11-13T19:21:36.413Z"
   },
   {
    "duration": 6,
    "start_time": "2021-11-13T19:21:36.427Z"
   },
   {
    "duration": 356,
    "start_time": "2021-11-13T19:21:36.434Z"
   },
   {
    "duration": 13,
    "start_time": "2021-11-13T19:21:36.792Z"
   },
   {
    "duration": 345,
    "start_time": "2021-11-13T19:21:36.806Z"
   },
   {
    "duration": 18,
    "start_time": "2021-11-13T19:21:37.153Z"
   },
   {
    "duration": 423,
    "start_time": "2021-11-13T19:21:37.173Z"
   },
   {
    "duration": 14,
    "start_time": "2021-11-13T19:21:37.597Z"
   },
   {
    "duration": 431,
    "start_time": "2021-11-13T19:21:37.614Z"
   },
   {
    "duration": 49,
    "start_time": "2021-11-13T19:21:38.047Z"
   },
   {
    "duration": 15,
    "start_time": "2021-11-13T19:21:38.097Z"
   },
   {
    "duration": 411,
    "start_time": "2021-11-13T19:21:38.113Z"
   },
   {
    "duration": 386,
    "start_time": "2021-11-13T19:21:38.526Z"
   },
   {
    "duration": 449,
    "start_time": "2021-11-13T19:21:38.914Z"
   },
   {
    "duration": 400,
    "start_time": "2021-11-13T19:21:39.365Z"
   },
   {
    "duration": 490,
    "start_time": "2021-11-13T19:21:39.767Z"
   },
   {
    "duration": 23,
    "start_time": "2021-11-13T19:21:40.258Z"
   },
   {
    "duration": 15,
    "start_time": "2021-11-13T19:21:40.283Z"
   },
   {
    "duration": 11,
    "start_time": "2021-11-13T19:21:40.300Z"
   },
   {
    "duration": 84,
    "start_time": "2021-11-13T19:21:40.313Z"
   },
   {
    "duration": 66,
    "start_time": "2021-11-13T19:21:40.398Z"
   },
   {
    "duration": 14,
    "start_time": "2021-11-13T19:21:40.465Z"
   },
   {
    "duration": 39,
    "start_time": "2021-11-13T19:21:40.481Z"
   },
   {
    "duration": 96,
    "start_time": "2021-11-13T19:21:40.522Z"
   },
   {
    "duration": 65,
    "start_time": "2021-11-13T19:21:40.620Z"
   },
   {
    "duration": 1026,
    "start_time": "2021-11-13T19:21:40.687Z"
   },
   {
    "duration": 269,
    "start_time": "2021-11-13T19:21:41.715Z"
   },
   {
    "duration": 67785,
    "start_time": "2021-11-13T19:21:41.986Z"
   },
   {
    "duration": 76694,
    "start_time": "2021-11-13T19:22:49.773Z"
   },
   {
    "duration": 272809,
    "start_time": "2021-11-13T19:24:06.469Z"
   },
   {
    "duration": 26439,
    "start_time": "2021-11-13T19:28:39.279Z"
   },
   {
    "duration": 278866,
    "start_time": "2021-11-13T19:29:05.720Z"
   },
   {
    "duration": 742346,
    "start_time": "2021-11-13T19:33:44.588Z"
   },
   {
    "duration": 505942,
    "start_time": "2021-11-13T19:46:06.936Z"
   },
   {
    "duration": 16887,
    "start_time": "2021-11-13T19:54:32.880Z"
   },
   {
    "duration": 196,
    "start_time": "2021-11-13T19:54:49.770Z"
   },
   {
    "duration": 95,
    "start_time": "2021-11-13T19:54:49.968Z"
   },
   {
    "duration": 4980,
    "start_time": "2021-11-13T19:54:50.067Z"
   },
   {
    "duration": 89,
    "start_time": "2021-11-13T19:54:55.049Z"
   },
   {
    "duration": 3,
    "start_time": "2021-11-13T19:54:55.140Z"
   },
   {
    "duration": 421,
    "start_time": "2021-11-13T19:54:55.145Z"
   },
   {
    "duration": 14,
    "start_time": "2021-11-13T19:54:55.567Z"
   },
   {
    "duration": 5,
    "start_time": "2021-11-13T19:54:55.582Z"
   },
   {
    "duration": 86,
    "start_time": "2021-11-13T20:10:49.211Z"
   },
   {
    "duration": 8078,
    "start_time": "2021-11-13T20:11:07.092Z"
   },
   {
    "duration": 67501,
    "start_time": "2021-11-13T20:18:49.109Z"
   },
   {
    "duration": 260,
    "start_time": "2021-11-13T20:19:56.611Z"
   },
   {
    "duration": 4,
    "start_time": "2021-11-13T20:20:15.674Z"
   },
   {
    "duration": 66943,
    "start_time": "2021-11-13T20:21:34.966Z"
   },
   {
    "duration": 166,
    "start_time": "2021-11-13T20:22:41.911Z"
   },
   {
    "duration": 4,
    "start_time": "2021-11-13T20:22:42.079Z"
   },
   {
    "duration": 96703,
    "start_time": "2021-11-13T20:22:42.085Z"
   },
   {
    "duration": 82,
    "start_time": "2021-11-13T20:24:18.790Z"
   },
   {
    "duration": 5,
    "start_time": "2021-11-13T20:24:18.874Z"
   },
   {
    "duration": 11794,
    "start_time": "2021-11-13T20:24:30.982Z"
   },
   {
    "duration": 435,
    "start_time": "2021-11-13T20:25:05.034Z"
   },
   {
    "duration": 4,
    "start_time": "2021-11-13T20:25:17.571Z"
   },
   {
    "duration": 13,
    "start_time": "2021-11-13T20:48:34.906Z"
   },
   {
    "duration": 11,
    "start_time": "2021-11-13T20:48:49.475Z"
   },
   {
    "duration": 1157,
    "start_time": "2021-11-13T21:08:25.519Z"
   },
   {
    "duration": 5,
    "start_time": "2021-11-13T21:08:29.730Z"
   },
   {
    "duration": 837,
    "start_time": "2021-11-13T21:08:32.024Z"
   },
   {
    "duration": 19,
    "start_time": "2021-11-13T21:08:32.863Z"
   },
   {
    "duration": 118,
    "start_time": "2021-11-13T21:08:33.930Z"
   },
   {
    "duration": 35,
    "start_time": "2021-11-13T21:08:38.649Z"
   },
   {
    "duration": 25,
    "start_time": "2021-11-13T21:08:39.569Z"
   },
   {
    "duration": 73,
    "start_time": "2021-11-13T21:08:42.386Z"
   },
   {
    "duration": 1581,
    "start_time": "2021-11-13T21:08:43.762Z"
   },
   {
    "duration": 13,
    "start_time": "2021-11-13T21:08:49.682Z"
   },
   {
    "duration": 198,
    "start_time": "2021-11-13T21:08:50.306Z"
   },
   {
    "duration": 468,
    "start_time": "2021-11-13T21:08:54.499Z"
   },
   {
    "duration": 13,
    "start_time": "2021-11-13T21:08:56.026Z"
   },
   {
    "duration": 34,
    "start_time": "2021-11-13T21:08:56.618Z"
   },
   {
    "duration": 51,
    "start_time": "2021-11-13T21:09:01.227Z"
   },
   {
    "duration": 14,
    "start_time": "2021-11-13T21:09:02.306Z"
   },
   {
    "duration": 3,
    "start_time": "2021-11-13T21:09:03.379Z"
   },
   {
    "duration": 349,
    "start_time": "2021-11-13T21:09:05.427Z"
   },
   {
    "duration": 14,
    "start_time": "2021-11-13T21:09:06.515Z"
   },
   {
    "duration": 342,
    "start_time": "2021-11-13T21:09:07.571Z"
   },
   {
    "duration": 14,
    "start_time": "2021-11-13T21:09:10.587Z"
   },
   {
    "duration": 346,
    "start_time": "2021-11-13T21:09:11.635Z"
   },
   {
    "duration": 17,
    "start_time": "2021-11-13T21:09:13.012Z"
   },
   {
    "duration": 487,
    "start_time": "2021-11-13T21:09:14.259Z"
   },
   {
    "duration": 38,
    "start_time": "2021-11-13T21:09:18.732Z"
   },
   {
    "duration": 17,
    "start_time": "2021-11-13T21:09:19.788Z"
   },
   {
    "duration": 413,
    "start_time": "2021-11-13T21:09:20.365Z"
   },
   {
    "duration": 380,
    "start_time": "2021-11-13T21:09:21.668Z"
   },
   {
    "duration": 430,
    "start_time": "2021-11-13T21:09:23.693Z"
   },
   {
    "duration": 400,
    "start_time": "2021-11-13T21:09:24.908Z"
   },
   {
    "duration": 511,
    "start_time": "2021-11-13T21:09:27.821Z"
   },
   {
    "duration": 23,
    "start_time": "2021-11-13T21:09:29.396Z"
   },
   {
    "duration": 15,
    "start_time": "2021-11-13T21:09:33.796Z"
   },
   {
    "duration": 12,
    "start_time": "2021-11-13T21:09:34.476Z"
   },
   {
    "duration": 56,
    "start_time": "2021-11-13T21:09:36.181Z"
   },
   {
    "duration": 58,
    "start_time": "2021-11-13T21:09:36.861Z"
   },
   {
    "duration": 14,
    "start_time": "2021-11-13T21:09:39.669Z"
   },
   {
    "duration": 40,
    "start_time": "2021-11-13T21:09:40.629Z"
   },
   {
    "duration": 68,
    "start_time": "2021-11-13T21:09:41.328Z"
   },
   {
    "duration": 55,
    "start_time": "2021-11-13T21:09:50.265Z"
   },
   {
    "duration": 1118,
    "start_time": "2021-11-13T21:09:50.789Z"
   },
   {
    "duration": 279,
    "start_time": "2021-11-13T21:09:51.909Z"
   },
   {
    "duration": 69562,
    "start_time": "2021-11-13T21:09:54.309Z"
   },
   {
    "duration": 76393,
    "start_time": "2021-11-13T21:11:03.873Z"
   },
   {
    "duration": 277646,
    "start_time": "2021-11-13T21:12:20.269Z"
   },
   {
    "duration": 26893,
    "start_time": "2021-11-13T21:16:57.918Z"
   },
   {
    "duration": 738512,
    "start_time": "2021-11-13T21:17:24.813Z"
   },
   {
    "duration": 287253,
    "start_time": "2021-11-13T21:29:43.327Z"
   },
   {
    "duration": 184983,
    "start_time": "2021-11-13T21:34:30.582Z"
   },
   {
    "duration": 16849,
    "start_time": "2021-11-13T21:41:51.919Z"
   },
   {
    "duration": 129,
    "start_time": "2021-11-13T21:43:22.236Z"
   },
   {
    "duration": 4,
    "start_time": "2021-11-13T21:43:23.980Z"
   },
   {
    "duration": 5150,
    "start_time": "2021-11-13T21:43:26.220Z"
   },
   {
    "duration": 94,
    "start_time": "2021-11-13T21:43:31.372Z"
   },
   {
    "duration": 4,
    "start_time": "2021-11-13T21:43:31.750Z"
   },
   {
    "duration": 410,
    "start_time": "2021-11-13T21:43:37.069Z"
   },
   {
    "duration": 15,
    "start_time": "2021-11-13T21:43:38.453Z"
   },
   {
    "duration": 4,
    "start_time": "2021-11-13T21:43:39.118Z"
   },
   {
    "duration": 98582,
    "start_time": "2021-11-13T21:43:44.277Z"
   },
   {
    "duration": 102,
    "start_time": "2021-11-13T21:45:22.861Z"
   },
   {
    "duration": 3,
    "start_time": "2021-11-13T21:45:22.966Z"
   },
   {
    "duration": 66342,
    "start_time": "2021-11-13T21:45:22.971Z"
   },
   {
    "duration": 257,
    "start_time": "2021-11-13T21:46:29.315Z"
   },
   {
    "duration": 4,
    "start_time": "2021-11-13T21:46:29.574Z"
   },
   {
    "duration": 10110,
    "start_time": "2021-11-13T21:50:50.468Z"
   },
   {
    "duration": 585,
    "start_time": "2021-11-13T21:51:00.581Z"
   },
   {
    "duration": 5,
    "start_time": "2021-11-13T21:51:01.168Z"
   },
   {
    "duration": 14,
    "start_time": "2021-11-13T21:58:16.109Z"
   },
   {
    "duration": 12,
    "start_time": "2021-11-13T21:58:22.066Z"
   },
   {
    "duration": 108,
    "start_time": "2021-11-14T11:46:16.819Z"
   }
  ],
  "kernelspec": {
   "display_name": "Python 3 (ipykernel)",
   "language": "python",
   "name": "python3"
  },
  "language_info": {
   "codemirror_mode": {
    "name": "ipython",
    "version": 3
   },
   "file_extension": ".py",
   "mimetype": "text/x-python",
   "name": "python",
   "nbconvert_exporter": "python",
   "pygments_lexer": "ipython3",
   "version": "3.9.12"
  },
  "toc": {
   "base_numbering": 1,
   "nav_menu": {},
   "number_sections": true,
   "sideBar": true,
   "skip_h1_title": true,
   "title_cell": "Table of Contents",
   "title_sidebar": "Contents",
   "toc_cell": false,
   "toc_position": {},
   "toc_section_display": true,
   "toc_window_display": false
  }
 },
 "nbformat": 4,
 "nbformat_minor": 2
}
